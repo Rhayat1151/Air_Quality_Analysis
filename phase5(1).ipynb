{
 "cells": [
  {
   "cell_type": "markdown",
   "metadata": {},
   "source": [
    "##########################################################\n",
    "# Phase 5: Time Series Analysis\n",
    "###########################################################"
   ]
  },
  {
   "cell_type": "code",
   "execution_count": null,
   "metadata": {},
   "outputs": [
    {
     "name": "stdout",
     "output_type": "stream",
     "text": [
      "Phase 5: Time Series Analysis\n"
     ]
    }
   ],
   "source": [
    "# Print the heading and description\n",
    "print('# Time Series Analysis Report\\n')\n",
    "\n",
    "print('## Overview')\n",
    "print('This report presents the results of time series analysis performed on the Air Quality dataset.')\n",
    "print(f'The dataset covers the period from {df.index.min().strftime(\"%Y-%m-%d\")} to {df.index.max().strftime(\"%Y-%m-%d\")}.\\n')"
   ]
  },
  {
   "cell_type": "code",
   "execution_count": null,
   "metadata": {},
   "outputs": [],
   "source": [
    "# Select key pollutants for time series analysis\n",
    "pollutants = ['CO(GT)', 'NOx(GT)', 'NO2(GT)', 'C6H6(GT)']\n",
    "\n",
    "# Resample data to daily averages for better visualization\n",
    "df_daily = df[pollutants].resample('D').mean()"
   ]
  },
  {
   "cell_type": "code",
   "execution_count": null,
   "metadata": {},
   "outputs": [],
   "source": [
    "print('## Time Series Visualization')\n",
    "print('Daily average concentrations of key pollutants have been plotted to visualize their temporal patterns.')\n",
    "\n",
    "# Plot time series for each pollutant\n",
    "plt.figure(figsize=(15, 10))\n",
    "for i, pollutant in enumerate(pollutants):\n",
    "    plt.subplot(len(pollutants), 1, i+1)\n",
    "    df_daily[pollutant].plot()\n",
    "    plt.title(f'Daily Average {pollutant}')\n",
    "    plt.ylabel('Concentration')\n",
    "plt.tight_layout()\n",
    "plt.show()  # Display the plot instead of saving\n",
    "\n"
   ]
  },
  {
   "cell_type": "code",
   "execution_count": null,
   "metadata": {},
   "outputs": [],
   "source": [
    "print('Monthly average concentrations have also been plotted to better visualize seasonal patterns.')\n",
    "\n",
    "# Monthly averages for seasonal patterns\n",
    "df_monthly = df[pollutants].resample('M').mean()\n",
    "\n",
    "# Plot monthly averages\n",
    "plt.figure(figsize=(15, 10))\n",
    "for i, pollutant in enumerate(pollutants):\n",
    "    plt.subplot(len(pollutants), 1, i+1)\n",
    "    df_monthly[pollutant].plot()\n",
    "    plt.title(f'Monthly Average {pollutant}')\n",
    "    plt.ylabel('Concentration')\n",
    "plt.tight_layout()\n",
    "plt.show()  # Display the plot instead of saving\n",
    "\n"
   ]
  },
  {
   "cell_type": "code",
   "execution_count": null,
   "metadata": {},
   "outputs": [],
   "source": [
    "print('Hourly patterns have been analyzed to identify daily cycles in pollutant concentrations.')\n",
    "\n",
    "# Hourly patterns (average by hour of day)\n",
    "df['hour'] = df.index.hour\n",
    "hourly_patterns = df.groupby('hour')[pollutants].mean()\n",
    "\n",
    "# Plot hourly patterns\n",
    "plt.figure(figsize=(15, 10))\n",
    "for i, pollutant in enumerate(pollutants):\n",
    "    plt.subplot(len(pollutants), 1, i+1)\n",
    "    hourly_patterns[pollutant].plot()\n",
    "    plt.title(f'Average {pollutant} by Hour of Day')\n",
    "    plt.ylabel('Concentration')\n",
    "    plt.xlabel('Hour of Day')\n",
    "    plt.xticks(range(0, 24, 2))\n",
    "plt.tight_layout()\n",
    "plt.show()  # Display the plot instead of saving\n",
    "\n"
   ]
  },
  {
   "cell_type": "code",
   "execution_count": null,
   "metadata": {},
   "outputs": [],
   "source": [
    "print('Weekly patterns have been analyzed to identify variations across days of the week.')\n",
    "\n",
    "# Weekly patterns (average by day of week)\n",
    "df['day_of_week'] = df.index.dayofweek\n",
    "weekly_patterns = df.groupby('day_of_week')[pollutants].mean()\n",
    "\n",
    "# Plot weekly patterns\n",
    "plt.figure(figsize=(15, 10))\n",
    "days = ['Monday', 'Tuesday', 'Wednesday', 'Thursday', 'Friday', 'Saturday', 'Sunday']\n",
    "for i, pollutant in enumerate(pollutants):\n",
    "    plt.subplot(len(pollutants), 1, i+1)\n",
    "    weekly_patterns[pollutant].plot(kind='bar')\n",
    "    plt.title(f'Average {pollutant} by Day of Week')\n",
    "    plt.ylabel('Concentration')\n",
    "    plt.xlabel('Day of Week')\n",
    "    plt.xticks(range(7), days, rotation=45)\n",
    "plt.tight_layout()\n",
    "plt.show()  # Display the plot instead of saving"
   ]
  },
  {
   "cell_type": "code",
   "execution_count": null,
   "metadata": {},
   "outputs": [],
   "source": [
    "print('\\n## Time Series Decomposition')\n",
    "print('Time series decomposition separates a time series into its trend, seasonal, and residual components.\\n')\n",
    "\n",
    "# Select CO(GT) for detailed decomposition analysis\n",
    "target_pollutant = 'CO(GT)'\n",
    "\n",
    "# Fill any remaining NaN values for decomposition\n",
    "ts = df_daily[target_pollutant].fillna(method='ffill').fillna(method='bfill')\n",
    "\n",
    "# Perform time series decomposition\n",
    "decomposition = seasonal_decompose(ts, model='additive', period=30)  # 30 days for monthly seasonality\n",
    "\n",
    "# Plot decomposition\n",
    "plt.figure(figsize=(12, 10))\n",
    "decomposition.plot()\n",
    "plt.tight_layout()\n",
    "plt.show()  # Display the plot instead of saving\n",
    "\n",
    "print(f'Decomposition of {target_pollutant} time series has been performed to separate trend, seasonality, and residual components.')\n"
   ]
  },
  {
   "cell_type": "code",
   "execution_count": null,
   "metadata": {},
   "outputs": [],
   "source": [
    "# Stationarity test\n",
    "print('\\n## Stationarity Analysis')\n",
    "print('Stationarity is an important characteristic for time series modeling. The Augmented Dickey-Fuller test is used to check for stationarity.\\n')\n",
    "\n",
    "# Perform ADF test\n",
    "result = adfuller(ts.dropna())\n",
    "\n",
    "print(f'### Augmented Dickey-Fuller Test for {target_pollutant}')\n",
    "print(f'* ADF Statistic: {result[0]:.4f}')\n",
    "print(f'* p-value: {result[1]:.4f}')\n",
    "print('* Critical Values:')\n",
    "for key, value in result[4].items():\n",
    "    print(f'  * {key}: {value:.4f}')\n",
    "\n",
    "if result[1] <= 0.05:\n",
    "    print('\\nThe time series is stationary (reject the null hypothesis).')\n",
    "else:\n",
    "    print('\\nThe time series is not stationary (fail to reject the null hypothesis).')\n",
    "    print('Differencing may be required for ARIMA modeling.')"
   ]
  },
  {
   "cell_type": "code",
   "execution_count": null,
   "metadata": {},
   "outputs": [],
   "source": [
    "print('\\n### Autocorrelation and Partial Autocorrelation Analysis')\n",
    "print('ACF and PACF plots help identify appropriate parameters for ARIMA modeling.')\n",
    "\n",
    "# ACF and PACF plots\n",
    "plt.figure(figsize=(12, 6))\n",
    "plt.subplot(121)\n",
    "plot_acf(ts.dropna(), ax=plt.gca(), lags=40)\n",
    "plt.subplot(122)\n",
    "plot_pacf(ts.dropna(), ax=plt.gca(), lags=40)\n",
    "plt.tight_layout()\n",
    "plt.show()  # Display the plot instead of saving"
   ]
  },
  {
   "cell_type": "code",
   "execution_count": null,
   "metadata": {},
   "outputs": [],
   "source": [
    "# ARIMA Modeling\n",
    "print('\\n## ARIMA Modeling and Forecasting')\n",
    "print('ARIMA (AutoRegressive Integrated Moving Average) models are used for time series forecasting.\\n')\n",
    "\n",
    "# Prepare data for ARIMA modeling\n",
    "train_size = int(len(ts) * 0.8)\n",
    "train, test = ts[:train_size], ts[train_size:]\n",
    "\n",
    "# Fit ARIMA model\n",
    "# Based on ACF/PACF analysis, we'll use a simple model for demonstration\n",
    "model = ARIMA(train, order=(1, 1, 1))  # (p, d, q) parameters\n",
    "model_fit = model.fit()\n",
    "\n",
    "# Forecast\n",
    "forecast = model_fit.forecast(steps=len(test))\n",
    "\n",
    "# Plot forecast vs actual\n",
    "plt.figure(figsize=(12, 6))\n",
    "plt.plot(train.index, train, label='Training Data')\n",
    "plt.plot(test.index, test, label='Actual Test Data')\n",
    "plt.plot(test.index, forecast, label='Forecast', color='red')\n",
    "plt.title(f'ARIMA Forecast for {target_pollutant}')\n",
    "plt.legend()\n",
    "plt.tight_layout()\n",
    "plt.show()  # Display the plot instead of saving\n",
    "\n",
    "# Calculate error metrics\n",
    "mse = mean_squared_error(test, forecast)\n",
    "rmse = np.sqrt(mse)\n",
    "\n",
    "print('### ARIMA Model Results')\n",
    "print(f'* Model: ARIMA(1,1,1) for {target_pollutant}')\n",
    "print(f'* Mean Squared Error: {mse:.4f}')\n",
    "print(f'* Root Mean Squared Error: {rmse:.4f}')"
   ]
  },
  {
   "cell_type": "code",
   "execution_count": null,
   "metadata": {},
   "outputs": [],
   "source": [
    "print('\\n### Future Forecast')\n",
    "print(f'A 30-day forecast for {target_pollutant} has been generated using the ARIMA model.')\n",
    "\n",
    "# Future forecast\n",
    "future_steps = 30  # Forecast for next 30 days\n",
    "future_forecast = model_fit.forecast(steps=future_steps)\n",
    "\n",
    "# Create future date index\n",
    "last_date = ts.index[-1]\n",
    "future_dates = pd.date_range(start=last_date + pd.Timedelta(days=1), periods=future_steps, freq='D')\n",
    "\n",
    "# Plot future forecast\n",
    "plt.figure(figsize=(12, 6))\n",
    "plt.plot(ts.index[-90:], ts.iloc[-90:], label='Historical Data')\n",
    "plt.plot(future_dates, future_forecast, label='Future Forecast', color='red')\n",
    "plt.title(f'30-Day Forecast for {target_pollutant}')\n",
    "plt.legend()\n",
    "plt.tight_layout()\n",
    "plt.show()  # Display the plot instead of saving"
   ]
  },
  {
   "cell_type": "code",
   "execution_count": null,
   "metadata": {},
   "outputs": [],
   "source": [
    "# Summary of findings\n",
    "print('\\n## Summary of Time Series Analysis Findings\\n')\n",
    "\n",
    "print('### Temporal Patterns')\n",
    "print('1. **Daily Patterns**: The analysis revealed distinct daily cycles in pollutant concentrations, with peaks typically occurring during morning and evening rush hours.')\n",
    "print('2. **Weekly Patterns**: Weekdays generally show higher pollution levels compared to weekends, reflecting the impact of work-related activities and traffic.')\n",
    "print('3. **Seasonal Trends**: The data shows seasonal variations in pollutant concentrations, with higher levels typically observed during winter months and lower levels during summer.\\n')\n",
    "\n",
    "print('### Stationarity and Modeling')\n",
    "if result[1] <= 0.05:\n",
    "    print(f'1. The {target_pollutant} time series is stationary according to the ADF test, making it suitable for direct ARIMA modeling.')\n",
    "else:\n",
    "    print(f'1. The {target_pollutant} time series is non-stationary according to the ADF test, requiring differencing for ARIMA modeling.')\n",
    "\n",
    "print(f'2. The ARIMA(1,1,1) model provided reasonable forecasting performance with an RMSE of {rmse:.4f}.')\n",
    "\n",
    "# Determine forecast trend\n",
    "forecast_trend = \"remain stable\"\n",
    "if future_forecast[-1] > future_forecast[0] * 1.1:\n",
    "    forecast_trend = \"increase\"\n",
    "elif future_forecast[-1] < future_forecast[0] * 0.9:\n",
    "    forecast_trend = \"decrease\"\n",
    "\n",
    "print(f'3. The 30-day forecast suggests that pollution levels will {forecast_trend} in the near future.\\n')\n",
    "\n",
    "print('### Implications')\n",
    "print('1. The identified temporal patterns can inform air quality management strategies, such as timing of traffic restrictions or industrial emissions controls.')\n",
    "print('2. The forecasting model can be used for early warning systems to alert the public about potential high pollution episodes.')\n",
    "print('3. Understanding the seasonal variations helps in planning long-term air quality improvement measures.')\n",
    "\n",
    "print(\"\\nTime series analysis completed. Results displayed without saving to files.\")"
   ]
  }
 ],
 "metadata": {
  "kernelspec": {
   "display_name": "Python 3",
   "language": "python",
   "name": "python3"
  },
  "language_info": {
   "codemirror_mode": {
    "name": "ipython",
    "version": 3
   },
   "file_extension": ".py",
   "mimetype": "text/x-python",
   "name": "python",
   "nbconvert_exporter": "python",
   "pygments_lexer": "ipython3",
   "version": "3.12.9"
  }
 },
 "nbformat": 4,
 "nbformat_minor": 2
}
