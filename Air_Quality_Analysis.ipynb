{
 "cells": [
  {
   "cell_type": "code",
   "execution_count": 197,
   "metadata": {},
   "outputs": [],
   "source": [
    "import pandas as pd\n",
    "import numpy as np\n",
    "import matplotlib.pyplot as plt\n",
    "import seaborn as sns\n",
    "from sklearn.preprocessing import StandardScaler\n",
    "from sklearn.linear_model import LinearRegression\n",
    "from statsmodels.tsa.seasonal import seasonal_decompose\n",
    "from statsmodels.tsa.stattools import adfuller\n",
    "from statsmodels.graphics.tsaplots import plot_acf, plot_pacf\n",
    "from statsmodels.tsa.arima.model import ARIMA\n",
    "from sklearn.metrics import mean_squared_error\n",
    "import os\n",
    "import warnings\n",
    "warnings.filterwarnings('ignore')"
   ]
  },
  {
   "cell_type": "code",
   "execution_count": 198,
   "metadata": {},
   "outputs": [],
   "source": [
    "# Create directories for outputs\n",
    "os.makedirs('data', exist_ok=True)\n",
    "os.makedirs('exploratory_data_analysis', exist_ok=True)\n",
    "os.makedirs('preprocessing', exist_ok=True)\n",
    "os.makedirs('correlation_analysis', exist_ok=True)\n",
    "os.makedirs('time_series_analysis', exist_ok=True)\n",
    "os.makedirs('final_report/figures', exist_ok=True)"
   ]
  },
  {
   "cell_type": "markdown",
   "metadata": {},
   "source": [
    "######################################################################\n",
    "## Phase 1: Data Loading and Initial Examination\n",
    "######################################################################"
   ]
  },
  {
   "cell_type": "code",
   "execution_count": 199,
   "metadata": {},
   "outputs": [
    {
     "name": "stdout",
     "output_type": "stream",
     "text": [
      "Phase 1: Data Loading and Initial Examination\n"
     ]
    }
   ],
   "source": [
    "print(\"Phase 1: Data Loading and Initial Examination\")"
   ]
  },
  {
   "cell_type": "code",
   "execution_count": 200,
   "metadata": {},
   "outputs": [],
   "source": [
    "# Load the dataset\n",
    "airquality = pd.read_excel('Dataset/AirQualityUCI.xlsx')"
   ]
  },
  {
   "cell_type": "code",
   "execution_count": 201,
   "metadata": {},
   "outputs": [
    {
     "data": {
      "text/html": [
       "<div>\n",
       "<style scoped>\n",
       "    .dataframe tbody tr th:only-of-type {\n",
       "        vertical-align: middle;\n",
       "    }\n",
       "\n",
       "    .dataframe tbody tr th {\n",
       "        vertical-align: top;\n",
       "    }\n",
       "\n",
       "    .dataframe thead th {\n",
       "        text-align: right;\n",
       "    }\n",
       "</style>\n",
       "<table border=\"1\" class=\"dataframe\">\n",
       "  <thead>\n",
       "    <tr style=\"text-align: right;\">\n",
       "      <th></th>\n",
       "      <th>Date</th>\n",
       "      <th>Time</th>\n",
       "      <th>CO(GT)</th>\n",
       "      <th>PT08.S1(CO)</th>\n",
       "      <th>NMHC(GT)</th>\n",
       "      <th>C6H6(GT)</th>\n",
       "      <th>PT08.S2(NMHC)</th>\n",
       "      <th>NOx(GT)</th>\n",
       "      <th>PT08.S3(NOx)</th>\n",
       "      <th>NO2(GT)</th>\n",
       "      <th>PT08.S4(NO2)</th>\n",
       "      <th>PT08.S5(O3)</th>\n",
       "      <th>T</th>\n",
       "      <th>RH</th>\n",
       "      <th>AH</th>\n",
       "    </tr>\n",
       "  </thead>\n",
       "  <tbody>\n",
       "    <tr>\n",
       "      <th>0</th>\n",
       "      <td>2004-03-10</td>\n",
       "      <td>18:00:00</td>\n",
       "      <td>2.6</td>\n",
       "      <td>1360.00</td>\n",
       "      <td>150</td>\n",
       "      <td>11.881723</td>\n",
       "      <td>1045.50</td>\n",
       "      <td>166.0</td>\n",
       "      <td>1056.25</td>\n",
       "      <td>113.0</td>\n",
       "      <td>1692.00</td>\n",
       "      <td>1267.50</td>\n",
       "      <td>13.60</td>\n",
       "      <td>48.875001</td>\n",
       "      <td>0.757754</td>\n",
       "    </tr>\n",
       "    <tr>\n",
       "      <th>1</th>\n",
       "      <td>2004-03-10</td>\n",
       "      <td>19:00:00</td>\n",
       "      <td>2.0</td>\n",
       "      <td>1292.25</td>\n",
       "      <td>112</td>\n",
       "      <td>9.397165</td>\n",
       "      <td>954.75</td>\n",
       "      <td>103.0</td>\n",
       "      <td>1173.75</td>\n",
       "      <td>92.0</td>\n",
       "      <td>1558.75</td>\n",
       "      <td>972.25</td>\n",
       "      <td>13.30</td>\n",
       "      <td>47.700000</td>\n",
       "      <td>0.725487</td>\n",
       "    </tr>\n",
       "    <tr>\n",
       "      <th>2</th>\n",
       "      <td>2004-03-10</td>\n",
       "      <td>20:00:00</td>\n",
       "      <td>2.2</td>\n",
       "      <td>1402.00</td>\n",
       "      <td>88</td>\n",
       "      <td>8.997817</td>\n",
       "      <td>939.25</td>\n",
       "      <td>131.0</td>\n",
       "      <td>1140.00</td>\n",
       "      <td>114.0</td>\n",
       "      <td>1554.50</td>\n",
       "      <td>1074.00</td>\n",
       "      <td>11.90</td>\n",
       "      <td>53.975000</td>\n",
       "      <td>0.750239</td>\n",
       "    </tr>\n",
       "    <tr>\n",
       "      <th>3</th>\n",
       "      <td>2004-03-10</td>\n",
       "      <td>21:00:00</td>\n",
       "      <td>2.2</td>\n",
       "      <td>1375.50</td>\n",
       "      <td>80</td>\n",
       "      <td>9.228796</td>\n",
       "      <td>948.25</td>\n",
       "      <td>172.0</td>\n",
       "      <td>1092.00</td>\n",
       "      <td>122.0</td>\n",
       "      <td>1583.75</td>\n",
       "      <td>1203.25</td>\n",
       "      <td>11.00</td>\n",
       "      <td>60.000000</td>\n",
       "      <td>0.786713</td>\n",
       "    </tr>\n",
       "    <tr>\n",
       "      <th>4</th>\n",
       "      <td>2004-03-10</td>\n",
       "      <td>22:00:00</td>\n",
       "      <td>1.6</td>\n",
       "      <td>1272.25</td>\n",
       "      <td>51</td>\n",
       "      <td>6.518224</td>\n",
       "      <td>835.50</td>\n",
       "      <td>131.0</td>\n",
       "      <td>1205.00</td>\n",
       "      <td>116.0</td>\n",
       "      <td>1490.00</td>\n",
       "      <td>1110.00</td>\n",
       "      <td>11.15</td>\n",
       "      <td>59.575001</td>\n",
       "      <td>0.788794</td>\n",
       "    </tr>\n",
       "  </tbody>\n",
       "</table>\n",
       "</div>"
      ],
      "text/plain": [
       "        Date      Time  CO(GT)  PT08.S1(CO)  NMHC(GT)   C6H6(GT)  \\\n",
       "0 2004-03-10  18:00:00     2.6      1360.00       150  11.881723   \n",
       "1 2004-03-10  19:00:00     2.0      1292.25       112   9.397165   \n",
       "2 2004-03-10  20:00:00     2.2      1402.00        88   8.997817   \n",
       "3 2004-03-10  21:00:00     2.2      1375.50        80   9.228796   \n",
       "4 2004-03-10  22:00:00     1.6      1272.25        51   6.518224   \n",
       "\n",
       "   PT08.S2(NMHC)  NOx(GT)  PT08.S3(NOx)  NO2(GT)  PT08.S4(NO2)  PT08.S5(O3)  \\\n",
       "0        1045.50    166.0       1056.25    113.0       1692.00      1267.50   \n",
       "1         954.75    103.0       1173.75     92.0       1558.75       972.25   \n",
       "2         939.25    131.0       1140.00    114.0       1554.50      1074.00   \n",
       "3         948.25    172.0       1092.00    122.0       1583.75      1203.25   \n",
       "4         835.50    131.0       1205.00    116.0       1490.00      1110.00   \n",
       "\n",
       "       T         RH        AH  \n",
       "0  13.60  48.875001  0.757754  \n",
       "1  13.30  47.700000  0.725487  \n",
       "2  11.90  53.975000  0.750239  \n",
       "3  11.00  60.000000  0.786713  \n",
       "4  11.15  59.575001  0.788794  "
      ]
     },
     "execution_count": 201,
     "metadata": {},
     "output_type": "execute_result"
    }
   ],
   "source": [
    "airquality.head()"
   ]
  },
  {
   "cell_type": "code",
   "execution_count": 202,
   "metadata": {},
   "outputs": [
    {
     "name": "stdout",
     "output_type": "stream",
     "text": [
      "Dataset shape: (9357, 15)\n"
     ]
    }
   ],
   "source": [
    "print(f\"Dataset shape: {airquality.shape}\")"
   ]
  },
  {
   "cell_type": "code",
   "execution_count": 203,
   "metadata": {},
   "outputs": [
    {
     "name": "stdout",
     "output_type": "stream",
     "text": [
      "\n",
      "Column names:\n",
      "['Date', 'Time', 'CO(GT)', 'PT08.S1(CO)', 'NMHC(GT)', 'C6H6(GT)', 'PT08.S2(NMHC)', 'NOx(GT)', 'PT08.S3(NOx)', 'NO2(GT)', 'PT08.S4(NO2)', 'PT08.S5(O3)', 'T', 'RH', 'AH']\n"
     ]
    }
   ],
   "source": [
    "print(\"\\nColumn names:\")\n",
    "print(airquality.columns.tolist())"
   ]
  },
  {
   "cell_type": "code",
   "execution_count": 204,
   "metadata": {},
   "outputs": [
    {
     "name": "stdout",
     "output_type": "stream",
     "text": [
      "<class 'pandas.core.frame.DataFrame'>\n",
      "RangeIndex: 9357 entries, 0 to 9356\n",
      "Data columns (total 15 columns):\n",
      " #   Column         Non-Null Count  Dtype         \n",
      "---  ------         --------------  -----         \n",
      " 0   Date           9357 non-null   datetime64[ns]\n",
      " 1   Time           9357 non-null   object        \n",
      " 2   CO(GT)         9357 non-null   float64       \n",
      " 3   PT08.S1(CO)    9357 non-null   float64       \n",
      " 4   NMHC(GT)       9357 non-null   int64         \n",
      " 5   C6H6(GT)       9357 non-null   float64       \n",
      " 6   PT08.S2(NMHC)  9357 non-null   float64       \n",
      " 7   NOx(GT)        9357 non-null   float64       \n",
      " 8   PT08.S3(NOx)   9357 non-null   float64       \n",
      " 9   NO2(GT)        9357 non-null   float64       \n",
      " 10  PT08.S4(NO2)   9357 non-null   float64       \n",
      " 11  PT08.S5(O3)    9357 non-null   float64       \n",
      " 12  T              9357 non-null   float64       \n",
      " 13  RH             9357 non-null   float64       \n",
      " 14  AH             9357 non-null   float64       \n",
      "dtypes: datetime64[ns](1), float64(12), int64(1), object(1)\n",
      "memory usage: 1.1+ MB\n"
     ]
    }
   ],
   "source": [
    "airquality.info()"
   ]
  },
  {
   "cell_type": "code",
   "execution_count": 205,
   "metadata": {},
   "outputs": [
    {
     "name": "stdout",
     "output_type": "stream",
     "text": [
      "\n",
      "Data types:\n",
      "Date             datetime64[ns]\n",
      "Time                     object\n",
      "CO(GT)                  float64\n",
      "PT08.S1(CO)             float64\n",
      "NMHC(GT)                  int64\n",
      "C6H6(GT)                float64\n",
      "PT08.S2(NMHC)           float64\n",
      "NOx(GT)                 float64\n",
      "PT08.S3(NOx)            float64\n",
      "NO2(GT)                 float64\n",
      "PT08.S4(NO2)            float64\n",
      "PT08.S5(O3)             float64\n",
      "T                       float64\n",
      "RH                      float64\n",
      "AH                      float64\n",
      "dtype: object\n"
     ]
    }
   ],
   "source": [
    "print(\"\\nData types:\")\n",
    "print(airquality.dtypes)"
   ]
  },
  {
   "cell_type": "code",
   "execution_count": 206,
   "metadata": {},
   "outputs": [
    {
     "data": {
      "text/html": [
       "<div>\n",
       "<style scoped>\n",
       "    .dataframe tbody tr th:only-of-type {\n",
       "        vertical-align: middle;\n",
       "    }\n",
       "\n",
       "    .dataframe tbody tr th {\n",
       "        vertical-align: top;\n",
       "    }\n",
       "\n",
       "    .dataframe thead th {\n",
       "        text-align: right;\n",
       "    }\n",
       "</style>\n",
       "<table border=\"1\" class=\"dataframe\">\n",
       "  <thead>\n",
       "    <tr style=\"text-align: right;\">\n",
       "      <th></th>\n",
       "      <th>Date</th>\n",
       "      <th>CO(GT)</th>\n",
       "      <th>PT08.S1(CO)</th>\n",
       "      <th>NMHC(GT)</th>\n",
       "      <th>C6H6(GT)</th>\n",
       "      <th>PT08.S2(NMHC)</th>\n",
       "      <th>NOx(GT)</th>\n",
       "      <th>PT08.S3(NOx)</th>\n",
       "      <th>NO2(GT)</th>\n",
       "      <th>PT08.S4(NO2)</th>\n",
       "      <th>PT08.S5(O3)</th>\n",
       "      <th>T</th>\n",
       "      <th>RH</th>\n",
       "      <th>AH</th>\n",
       "    </tr>\n",
       "  </thead>\n",
       "  <tbody>\n",
       "    <tr>\n",
       "      <th>count</th>\n",
       "      <td>9357</td>\n",
       "      <td>9357.000000</td>\n",
       "      <td>9357.000000</td>\n",
       "      <td>9357.000000</td>\n",
       "      <td>9357.000000</td>\n",
       "      <td>9357.000000</td>\n",
       "      <td>9357.000000</td>\n",
       "      <td>9357.000000</td>\n",
       "      <td>9357.000000</td>\n",
       "      <td>9357.000000</td>\n",
       "      <td>9357.000000</td>\n",
       "      <td>9357.000000</td>\n",
       "      <td>9357.000000</td>\n",
       "      <td>9357.000000</td>\n",
       "    </tr>\n",
       "    <tr>\n",
       "      <th>mean</th>\n",
       "      <td>2004-09-21 04:30:05.193972480</td>\n",
       "      <td>-34.207524</td>\n",
       "      <td>1048.869652</td>\n",
       "      <td>-159.090093</td>\n",
       "      <td>1.865576</td>\n",
       "      <td>894.475963</td>\n",
       "      <td>168.604200</td>\n",
       "      <td>794.872333</td>\n",
       "      <td>58.135898</td>\n",
       "      <td>1391.363266</td>\n",
       "      <td>974.951534</td>\n",
       "      <td>9.776600</td>\n",
       "      <td>39.483611</td>\n",
       "      <td>-6.837604</td>\n",
       "    </tr>\n",
       "    <tr>\n",
       "      <th>min</th>\n",
       "      <td>2004-03-10 00:00:00</td>\n",
       "      <td>-200.000000</td>\n",
       "      <td>-200.000000</td>\n",
       "      <td>-200.000000</td>\n",
       "      <td>-200.000000</td>\n",
       "      <td>-200.000000</td>\n",
       "      <td>-200.000000</td>\n",
       "      <td>-200.000000</td>\n",
       "      <td>-200.000000</td>\n",
       "      <td>-200.000000</td>\n",
       "      <td>-200.000000</td>\n",
       "      <td>-200.000000</td>\n",
       "      <td>-200.000000</td>\n",
       "      <td>-200.000000</td>\n",
       "    </tr>\n",
       "    <tr>\n",
       "      <th>25%</th>\n",
       "      <td>2004-06-16 00:00:00</td>\n",
       "      <td>0.600000</td>\n",
       "      <td>921.000000</td>\n",
       "      <td>-200.000000</td>\n",
       "      <td>4.004958</td>\n",
       "      <td>711.000000</td>\n",
       "      <td>50.000000</td>\n",
       "      <td>637.000000</td>\n",
       "      <td>53.000000</td>\n",
       "      <td>1184.750000</td>\n",
       "      <td>699.750000</td>\n",
       "      <td>10.950000</td>\n",
       "      <td>34.050000</td>\n",
       "      <td>0.692275</td>\n",
       "    </tr>\n",
       "    <tr>\n",
       "      <th>50%</th>\n",
       "      <td>2004-09-21 00:00:00</td>\n",
       "      <td>1.500000</td>\n",
       "      <td>1052.500000</td>\n",
       "      <td>-200.000000</td>\n",
       "      <td>7.886653</td>\n",
       "      <td>894.500000</td>\n",
       "      <td>141.000000</td>\n",
       "      <td>794.250000</td>\n",
       "      <td>96.000000</td>\n",
       "      <td>1445.500000</td>\n",
       "      <td>942.000000</td>\n",
       "      <td>17.200000</td>\n",
       "      <td>48.550000</td>\n",
       "      <td>0.976823</td>\n",
       "    </tr>\n",
       "    <tr>\n",
       "      <th>75%</th>\n",
       "      <td>2004-12-28 00:00:00</td>\n",
       "      <td>2.600000</td>\n",
       "      <td>1221.250000</td>\n",
       "      <td>-200.000000</td>\n",
       "      <td>13.636091</td>\n",
       "      <td>1104.750000</td>\n",
       "      <td>284.200000</td>\n",
       "      <td>960.250000</td>\n",
       "      <td>133.000000</td>\n",
       "      <td>1662.000000</td>\n",
       "      <td>1255.250000</td>\n",
       "      <td>24.075000</td>\n",
       "      <td>61.875000</td>\n",
       "      <td>1.296223</td>\n",
       "    </tr>\n",
       "    <tr>\n",
       "      <th>max</th>\n",
       "      <td>2005-04-04 00:00:00</td>\n",
       "      <td>11.900000</td>\n",
       "      <td>2039.750000</td>\n",
       "      <td>1189.000000</td>\n",
       "      <td>63.741476</td>\n",
       "      <td>2214.000000</td>\n",
       "      <td>1479.000000</td>\n",
       "      <td>2682.750000</td>\n",
       "      <td>339.700000</td>\n",
       "      <td>2775.000000</td>\n",
       "      <td>2522.750000</td>\n",
       "      <td>44.600000</td>\n",
       "      <td>88.725000</td>\n",
       "      <td>2.231036</td>\n",
       "    </tr>\n",
       "    <tr>\n",
       "      <th>std</th>\n",
       "      <td>NaN</td>\n",
       "      <td>77.657170</td>\n",
       "      <td>329.817015</td>\n",
       "      <td>139.789093</td>\n",
       "      <td>41.380154</td>\n",
       "      <td>342.315902</td>\n",
       "      <td>257.424561</td>\n",
       "      <td>321.977031</td>\n",
       "      <td>126.931428</td>\n",
       "      <td>467.192382</td>\n",
       "      <td>456.922728</td>\n",
       "      <td>43.203438</td>\n",
       "      <td>51.215645</td>\n",
       "      <td>38.976670</td>\n",
       "    </tr>\n",
       "  </tbody>\n",
       "</table>\n",
       "</div>"
      ],
      "text/plain": [
       "                                Date       CO(GT)  PT08.S1(CO)     NMHC(GT)  \\\n",
       "count                           9357  9357.000000  9357.000000  9357.000000   \n",
       "mean   2004-09-21 04:30:05.193972480   -34.207524  1048.869652  -159.090093   \n",
       "min              2004-03-10 00:00:00  -200.000000  -200.000000  -200.000000   \n",
       "25%              2004-06-16 00:00:00     0.600000   921.000000  -200.000000   \n",
       "50%              2004-09-21 00:00:00     1.500000  1052.500000  -200.000000   \n",
       "75%              2004-12-28 00:00:00     2.600000  1221.250000  -200.000000   \n",
       "max              2005-04-04 00:00:00    11.900000  2039.750000  1189.000000   \n",
       "std                              NaN    77.657170   329.817015   139.789093   \n",
       "\n",
       "          C6H6(GT)  PT08.S2(NMHC)      NOx(GT)  PT08.S3(NOx)      NO2(GT)  \\\n",
       "count  9357.000000    9357.000000  9357.000000   9357.000000  9357.000000   \n",
       "mean      1.865576     894.475963   168.604200    794.872333    58.135898   \n",
       "min    -200.000000    -200.000000  -200.000000   -200.000000  -200.000000   \n",
       "25%       4.004958     711.000000    50.000000    637.000000    53.000000   \n",
       "50%       7.886653     894.500000   141.000000    794.250000    96.000000   \n",
       "75%      13.636091    1104.750000   284.200000    960.250000   133.000000   \n",
       "max      63.741476    2214.000000  1479.000000   2682.750000   339.700000   \n",
       "std      41.380154     342.315902   257.424561    321.977031   126.931428   \n",
       "\n",
       "       PT08.S4(NO2)  PT08.S5(O3)            T           RH           AH  \n",
       "count   9357.000000  9357.000000  9357.000000  9357.000000  9357.000000  \n",
       "mean    1391.363266   974.951534     9.776600    39.483611    -6.837604  \n",
       "min     -200.000000  -200.000000  -200.000000  -200.000000  -200.000000  \n",
       "25%     1184.750000   699.750000    10.950000    34.050000     0.692275  \n",
       "50%     1445.500000   942.000000    17.200000    48.550000     0.976823  \n",
       "75%     1662.000000  1255.250000    24.075000    61.875000     1.296223  \n",
       "max     2775.000000  2522.750000    44.600000    88.725000     2.231036  \n",
       "std      467.192382   456.922728    43.203438    51.215645    38.976670  "
      ]
     },
     "execution_count": 206,
     "metadata": {},
     "output_type": "execute_result"
    }
   ],
   "source": [
    "airquality.describe()"
   ]
  },
  {
   "cell_type": "code",
   "execution_count": 207,
   "metadata": {},
   "outputs": [
    {
     "data": {
      "text/plain": [
       "Date             0\n",
       "Time             0\n",
       "CO(GT)           0\n",
       "PT08.S1(CO)      0\n",
       "NMHC(GT)         0\n",
       "C6H6(GT)         0\n",
       "PT08.S2(NMHC)    0\n",
       "NOx(GT)          0\n",
       "PT08.S3(NOx)     0\n",
       "NO2(GT)          0\n",
       "PT08.S4(NO2)     0\n",
       "PT08.S5(O3)      0\n",
       "T                0\n",
       "RH               0\n",
       "AH               0\n",
       "dtype: int64"
      ]
     },
     "execution_count": 207,
     "metadata": {},
     "output_type": "execute_result"
    }
   ],
   "source": [
    "airquality.isnull().sum()"
   ]
  },
  {
   "cell_type": "code",
   "execution_count": 208,
   "metadata": {},
   "outputs": [
    {
     "name": "stdout",
     "output_type": "stream",
     "text": [
      "\n",
      "Checking for -200 values (missing data):\n",
      "CO(GT) has -200 values: 1683 (17.99%)\n",
      "PT08.S1(CO) has -200 values: 366 (3.91%)\n",
      "C6H6(GT) has -200 values: 366 (3.91%)\n",
      "PT08.S2(NMHC) has -200 values: 366 (3.91%)\n",
      "NOx(GT) has -200 values: 1639 (17.52%)\n",
      "PT08.S3(NOx) has -200 values: 366 (3.91%)\n",
      "NO2(GT) has -200 values: 1642 (17.55%)\n",
      "PT08.S4(NO2) has -200 values: 366 (3.91%)\n",
      "PT08.S5(O3) has -200 values: 366 (3.91%)\n",
      "T has -200 values: 366 (3.91%)\n",
      "RH has -200 values: 366 (3.91%)\n",
      "AH has -200 values: 366 (3.91%)\n"
     ]
    }
   ],
   "source": [
    "# Check for missing values (represented as -200)\n",
    "print(\"\\nChecking for -200 values (missing data):\")\n",
    "for col in airquality.columns:\n",
    "    if isinstance(airquality[col].min(), (int, float)) and airquality[col].min() == -200:\n",
    "        print(f\"{col} has -200 values: {(airquality[col] == -200).sum()} ({(airquality[col] == -200).sum()/len(airquality)*100:.2f}%)\")"
   ]
  },
  {
   "cell_type": "code",
   "execution_count": 209,
   "metadata": {},
   "outputs": [],
   "source": [
    "# Replace -200 with NaN\n",
    "airquality = airquality.copy()\n",
    "for col in airquality.columns:\n",
    "    if airquality[col].dtype != 'datetime64[ns]' and airquality[col].dtype != 'object':\n",
    "        airquality[col] = airquality[col].replace(-200, np.nan)"
   ]
  },
  {
   "cell_type": "code",
   "execution_count": 210,
   "metadata": {},
   "outputs": [
    {
     "name": "stdout",
     "output_type": "stream",
     "text": [
      "\n",
      "Checking for -200 values (missing data):\n"
     ]
    }
   ],
   "source": [
    "# Check for missing values (represented as -200)\n",
    "print(\"\\nChecking for -200 values (missing data):\")\n",
    "for col in airquality.columns:\n",
    "    if isinstance(airquality[col].min(), (int, float)) and airquality[col].min() == -200:\n",
    "        print(f\"{col} has -200 values: {(airquality[col] == -200).sum()} ({(airquality[col] == -200).sum()/len(airquality)*100:.2f}%)\")"
   ]
  },
  {
   "cell_type": "code",
   "execution_count": 211,
   "metadata": {},
   "outputs": [
    {
     "name": "stdout",
     "output_type": "stream",
     "text": [
      "\n",
      "Number of duplicate rows: 0\n"
     ]
    }
   ],
   "source": [
    "# Check for duplicates\n",
    "duplicates = airquality.duplicated().sum()\n",
    "print(f\"\\nNumber of duplicate rows: {duplicates}\")"
   ]
  },
  {
   "cell_type": "code",
   "execution_count": 212,
   "metadata": {},
   "outputs": [
    {
     "data": {
      "text/plain": [
       "Date                0\n",
       "Time                0\n",
       "CO(GT)           1683\n",
       "PT08.S1(CO)       366\n",
       "NMHC(GT)         8443\n",
       "C6H6(GT)          366\n",
       "PT08.S2(NMHC)     366\n",
       "NOx(GT)          1639\n",
       "PT08.S3(NOx)      366\n",
       "NO2(GT)          1642\n",
       "PT08.S4(NO2)      366\n",
       "PT08.S5(O3)       366\n",
       "T                 366\n",
       "RH                366\n",
       "AH                366\n",
       "dtype: int64"
      ]
     },
     "execution_count": 212,
     "metadata": {},
     "output_type": "execute_result"
    }
   ],
   "source": [
    "airquality.isnull().sum()"
   ]
  },
  {
   "cell_type": "code",
   "execution_count": 213,
   "metadata": {},
   "outputs": [
    {
     "name": "stdout",
     "output_type": "stream",
     "text": [
      "Initial data examination completed. Results saved to data/data_description.txt\n"
     ]
    }
   ],
   "source": [
    "# Save basic statistics to a file\n",
    "with open('data/data_description.txt', 'w') as f:\n",
    "    f.write('# Air Quality Dataset - Exploratory Data Analysis\\n\\n')\n",
    "    f.write('## Dataset Overview\\n')\n",
    "    f.write(f'Number of observations: {airquality.shape[0]}\\n')\n",
    "    f.write(f'Number of variables: {airquality.shape[1]}\\n\\n')\n",
    "    \n",
    "    f.write('## Variable Types\\n')\n",
    "    f.write(str(airquality.dtypes) + '\\n\\n')\n",
    "    \n",
    "    # Convert -200 values to NaN for better statistics\n",
    "    df_clean = airquality.copy()\n",
    "    for col in df_clean.columns:\n",
    "        if df_clean[col].dtype != 'datetime64[ns]' and df_clean[col].dtype != 'object':\n",
    "            df_clean.loc[df_clean[col] == -200, col] = np.nan\n",
    "    \n",
    "    f.write('## Summary Statistics (after replacing -200 with NaN)\\n')\n",
    "    f.write(str(df_clean.describe()) + '\\n\\n')\n",
    "    \n",
    "    f.write('## Missing Values (counting -200 as missing)\\n')\n",
    "    missing_counts = df_clean.isna().sum()\n",
    "    missing_percent = (df_clean.isna().sum() / len(df_clean)) * 100\n",
    "    missing_data = pd.DataFrame({'Missing Count': missing_counts, 'Missing Percent': missing_percent})\n",
    "    f.write(str(missing_data) + '\\n\\n')\n",
    "\n",
    "print(\"Initial data examination completed. Results saved to data/data_description.txt\")"
   ]
  },
  {
   "cell_type": "markdown",
   "metadata": {},
   "source": [
    "################################################################\n",
    "## Phase 2: Exploratory Data Analysis (EDA)\n",
    "################################################################"
   ]
  },
  {
   "cell_type": "code",
   "execution_count": 214,
   "metadata": {},
   "outputs": [
    {
     "name": "stdout",
     "output_type": "stream",
     "text": [
      "\n",
      "Phase 2: Exploratory Data Analysis\n"
     ]
    }
   ],
   "source": [
    "print(\"\\nPhase 2: Exploratory Data Analysis\")"
   ]
  },
  {
   "cell_type": "code",
   "execution_count": 215,
   "metadata": {},
   "outputs": [
    {
     "data": {
      "image/png": "[encoded data removed]",
      "text/plain": [
       "<Figure size 864x432 with 1 Axes>"
      ]
     },
     "metadata": {
      "needs_background": "light"
     },
     "output_type": "display_data"
    }
   ],
   "source": [
    "# Create a figure for missing values visualization\n",
    "plt.figure(figsize=(12, 6))\n",
    "sns.heatmap(df_clean.isna(), cbar=False, yticklabels=False, cmap='viridis')\n",
    "plt.title('Missing Values in Air Quality Dataset')\n",
    "plt.tight_layout()\n",
    "plt.savefig('exploratory_data_analysis/missing_values.png')\n",
    "plt.show() \n",
    "plt.close()"
   ]
  },
  {
   "cell_type": "code",
   "execution_count": 216,
   "metadata": {},
   "outputs": [
    {
     "ename": "ValueError",
     "evalue": "Multi-dimensional indexing (e.g. `obj[:, None]`) is no longer supported. Convert to a numpy array before indexing instead.",
     "output_type": "error",
     "traceback": [
      "\u001b[0;31m---------------------------------------------------------------------------\u001b[0m",
      "\u001b[0;31mValueError\u001b[0m                                Traceback (most recent call last)",
      "\u001b[0;32m/tmp/ipykernel_21765/2961303001.py\u001b[0m in \u001b[0;36m<module>\u001b[0;34m\u001b[0m\n\u001b[1;32m      6\u001b[0m \u001b[0;32mfor\u001b[0m \u001b[0mi\u001b[0m\u001b[0;34m,\u001b[0m \u001b[0mcol\u001b[0m \u001b[0;32min\u001b[0m \u001b[0menumerate\u001b[0m\u001b[0;34m(\u001b[0m\u001b[0mnumeric_cols\u001b[0m\u001b[0;34m)\u001b[0m\u001b[0;34m:\u001b[0m\u001b[0;34m\u001b[0m\u001b[0;34m\u001b[0m\u001b[0m\n\u001b[1;32m      7\u001b[0m     \u001b[0mplt\u001b[0m\u001b[0;34m.\u001b[0m\u001b[0msubplot\u001b[0m\u001b[0;34m(\u001b[0m\u001b[0mn_rows\u001b[0m\u001b[0;34m,\u001b[0m \u001b[0mn_cols\u001b[0m\u001b[0;34m,\u001b[0m \u001b[0mi\u001b[0m \u001b[0;34m+\u001b[0m \u001b[0;36m1\u001b[0m\u001b[0;34m)\u001b[0m\u001b[0;34m\u001b[0m\u001b[0;34m\u001b[0m\u001b[0m\n\u001b[0;32m----> 8\u001b[0;31m     \u001b[0msns\u001b[0m\u001b[0;34m.\u001b[0m\u001b[0mhistplot\u001b[0m\u001b[0;34m(\u001b[0m\u001b[0mdf_clean\u001b[0m\u001b[0;34m[\u001b[0m\u001b[0mcol\u001b[0m\u001b[0;34m]\u001b[0m\u001b[0;34m.\u001b[0m\u001b[0mdropna\u001b[0m\u001b[0;34m(\u001b[0m\u001b[0;34m)\u001b[0m\u001b[0;34m,\u001b[0m \u001b[0mkde\u001b[0m\u001b[0;34m=\u001b[0m\u001b[0;32mTrue\u001b[0m\u001b[0;34m)\u001b[0m\u001b[0;34m\u001b[0m\u001b[0;34m\u001b[0m\u001b[0m\n\u001b[0m\u001b[1;32m      9\u001b[0m     \u001b[0mplt\u001b[0m\u001b[0;34m.\u001b[0m\u001b[0mtitle\u001b[0m\u001b[0;34m(\u001b[0m\u001b[0;34mf'Distribution of {col}'\u001b[0m\u001b[0;34m)\u001b[0m\u001b[0;34m\u001b[0m\u001b[0;34m\u001b[0m\u001b[0m\n\u001b[1;32m     10\u001b[0m \u001b[0mplt\u001b[0m\u001b[0;34m.\u001b[0m\u001b[0mtight_layout\u001b[0m\u001b[0;34m(\u001b[0m\u001b[0;34m)\u001b[0m\u001b[0;34m\u001b[0m\u001b[0;34m\u001b[0m\u001b[0m\n",
      "\u001b[0;32m~/.local/lib/python3.10/site-packages/seaborn/distributions.py\u001b[0m in \u001b[0;36mhistplot\u001b[0;34m(data, x, y, hue, weights, stat, bins, binwidth, binrange, discrete, cumulative, common_bins, common_norm, multiple, element, fill, shrink, kde, kde_kws, line_kws, thresh, pthresh, pmax, cbar, cbar_ax, cbar_kws, palette, hue_order, hue_norm, color, log_scale, legend, ax, **kwargs)\u001b[0m\n\u001b[1;32m   1414\u001b[0m     \u001b[0;32mif\u001b[0m \u001b[0mp\u001b[0m\u001b[0;34m.\u001b[0m\u001b[0munivariate\u001b[0m\u001b[0;34m:\u001b[0m\u001b[0;34m\u001b[0m\u001b[0;34m\u001b[0m\u001b[0m\n\u001b[1;32m   1415\u001b[0m \u001b[0;34m\u001b[0m\u001b[0m\n\u001b[0;32m-> 1416\u001b[0;31m         p.plot_univariate_histogram(\n\u001b[0m\u001b[1;32m   1417\u001b[0m             \u001b[0mmultiple\u001b[0m\u001b[0;34m=\u001b[0m\u001b[0mmultiple\u001b[0m\u001b[0;34m,\u001b[0m\u001b[0;34m\u001b[0m\u001b[0;34m\u001b[0m\u001b[0m\n\u001b[1;32m   1418\u001b[0m             \u001b[0melement\u001b[0m\u001b[0;34m=\u001b[0m\u001b[0melement\u001b[0m\u001b[0;34m,\u001b[0m\u001b[0;34m\u001b[0m\u001b[0;34m\u001b[0m\u001b[0m\n",
      "\u001b[0;32m~/.local/lib/python3.10/site-packages/seaborn/distributions.py\u001b[0m in \u001b[0;36mplot_univariate_histogram\u001b[0;34m(self, multiple, element, fill, common_norm, common_bins, shrink, kde, kde_kws, color, legend, line_kws, estimate_kws, **plot_kws)\u001b[0m\n\u001b[1;32m    649\u001b[0m \u001b[0;34m\u001b[0m\u001b[0m\n\u001b[1;32m    650\u001b[0m                 \u001b[0mline_kws\u001b[0m\u001b[0;34m[\u001b[0m\u001b[0;34m\"color\"\u001b[0m\u001b[0;34m]\u001b[0m \u001b[0;34m=\u001b[0m \u001b[0mto_rgba\u001b[0m\u001b[0;34m(\u001b[0m\u001b[0msub_color\u001b[0m\u001b[0;34m,\u001b[0m \u001b[0;36m1\u001b[0m\u001b[0;34m)\u001b[0m\u001b[0;34m\u001b[0m\u001b[0;34m\u001b[0m\u001b[0m\n\u001b[0;32m--> 651\u001b[0;31m                 line, = ax.plot(\n\u001b[0m\u001b[1;32m    652\u001b[0m                     \u001b[0;34m*\u001b[0m\u001b[0mline_args\u001b[0m\u001b[0;34m,\u001b[0m \u001b[0;34m**\u001b[0m\u001b[0mline_kws\u001b[0m\u001b[0;34m,\u001b[0m\u001b[0;34m\u001b[0m\u001b[0;34m\u001b[0m\u001b[0m\n\u001b[1;32m    653\u001b[0m                 )\n",
      "\u001b[0;32m/usr/lib/python3/dist-packages/matplotlib/axes/_axes.py\u001b[0m in \u001b[0;36mplot\u001b[0;34m(self, scalex, scaley, data, *args, **kwargs)\u001b[0m\n\u001b[1;32m   1630\u001b[0m         \"\"\"\n\u001b[1;32m   1631\u001b[0m         \u001b[0mkwargs\u001b[0m \u001b[0;34m=\u001b[0m \u001b[0mcbook\u001b[0m\u001b[0;34m.\u001b[0m\u001b[0mnormalize_kwargs\u001b[0m\u001b[0;34m(\u001b[0m\u001b[0mkwargs\u001b[0m\u001b[0;34m,\u001b[0m \u001b[0mmlines\u001b[0m\u001b[0;34m.\u001b[0m\u001b[0mLine2D\u001b[0m\u001b[0;34m)\u001b[0m\u001b[0;34m\u001b[0m\u001b[0;34m\u001b[0m\u001b[0m\n\u001b[0;32m-> 1632\u001b[0;31m         \u001b[0mlines\u001b[0m \u001b[0;34m=\u001b[0m \u001b[0;34m[\u001b[0m\u001b[0;34m*\u001b[0m\u001b[0mself\u001b[0m\u001b[0;34m.\u001b[0m\u001b[0m_get_lines\u001b[0m\u001b[0;34m(\u001b[0m\u001b[0;34m*\u001b[0m\u001b[0margs\u001b[0m\u001b[0;34m,\u001b[0m \u001b[0mdata\u001b[0m\u001b[0;34m=\u001b[0m\u001b[0mdata\u001b[0m\u001b[0;34m,\u001b[0m \u001b[0;34m**\u001b[0m\u001b[0mkwargs\u001b[0m\u001b[0;34m)\u001b[0m\u001b[0;34m]\u001b[0m\u001b[0;34m\u001b[0m\u001b[0;34m\u001b[0m\u001b[0m\n\u001b[0m\u001b[1;32m   1633\u001b[0m         \u001b[0;32mfor\u001b[0m \u001b[0mline\u001b[0m \u001b[0;32min\u001b[0m \u001b[0mlines\u001b[0m\u001b[0;34m:\u001b[0m\u001b[0;34m\u001b[0m\u001b[0;34m\u001b[0m\u001b[0m\n\u001b[1;32m   1634\u001b[0m             \u001b[0mself\u001b[0m\u001b[0;34m.\u001b[0m\u001b[0madd_line\u001b[0m\u001b[0;34m(\u001b[0m\u001b[0mline\u001b[0m\u001b[0;34m)\u001b[0m\u001b[0;34m\u001b[0m\u001b[0;34m\u001b[0m\u001b[0m\n",
      "\u001b[0;32m/usr/lib/python3/dist-packages/matplotlib/axes/_base.py\u001b[0m in \u001b[0;36m__call__\u001b[0;34m(self, data, *args, **kwargs)\u001b[0m\n\u001b[1;32m    310\u001b[0m                 \u001b[0mthis\u001b[0m \u001b[0;34m+=\u001b[0m \u001b[0margs\u001b[0m\u001b[0;34m[\u001b[0m\u001b[0;36m0\u001b[0m\u001b[0;34m]\u001b[0m\u001b[0;34m,\u001b[0m\u001b[0;34m\u001b[0m\u001b[0;34m\u001b[0m\u001b[0m\n\u001b[1;32m    311\u001b[0m                 \u001b[0margs\u001b[0m \u001b[0;34m=\u001b[0m \u001b[0margs\u001b[0m\u001b[0;34m[\u001b[0m\u001b[0;36m1\u001b[0m\u001b[0;34m:\u001b[0m\u001b[0;34m]\u001b[0m\u001b[0;34m\u001b[0m\u001b[0;34m\u001b[0m\u001b[0m\n\u001b[0;32m--> 312\u001b[0;31m             \u001b[0;32myield\u001b[0m \u001b[0;32mfrom\u001b[0m \u001b[0mself\u001b[0m\u001b[0;34m.\u001b[0m\u001b[0m_plot_args\u001b[0m\u001b[0;34m(\u001b[0m\u001b[0mthis\u001b[0m\u001b[0;34m,\u001b[0m \u001b[0mkwargs\u001b[0m\u001b[0;34m)\u001b[0m\u001b[0;34m\u001b[0m\u001b[0;34m\u001b[0m\u001b[0m\n\u001b[0m\u001b[1;32m    313\u001b[0m \u001b[0;34m\u001b[0m\u001b[0m\n\u001b[1;32m    314\u001b[0m     \u001b[0;32mdef\u001b[0m \u001b[0mget_next_color\u001b[0m\u001b[0;34m(\u001b[0m\u001b[0mself\u001b[0m\u001b[0;34m)\u001b[0m\u001b[0;34m:\u001b[0m\u001b[0;34m\u001b[0m\u001b[0;34m\u001b[0m\u001b[0m\n",
      "\u001b[0;32m/usr/lib/python3/dist-packages/matplotlib/axes/_base.py\u001b[0m in \u001b[0;36m_plot_args\u001b[0;34m(self, tup, kwargs, return_kwargs)\u001b[0m\n\u001b[1;32m    485\u001b[0m \u001b[0;34m\u001b[0m\u001b[0m\n\u001b[1;32m    486\u001b[0m         \u001b[0;32mif\u001b[0m \u001b[0mlen\u001b[0m\u001b[0;34m(\u001b[0m\u001b[0mxy\u001b[0m\u001b[0;34m)\u001b[0m \u001b[0;34m==\u001b[0m \u001b[0;36m2\u001b[0m\u001b[0;34m:\u001b[0m\u001b[0;34m\u001b[0m\u001b[0;34m\u001b[0m\u001b[0m\n\u001b[0;32m--> 487\u001b[0;31m             \u001b[0mx\u001b[0m \u001b[0;34m=\u001b[0m \u001b[0m_check_1d\u001b[0m\u001b[0;34m(\u001b[0m\u001b[0mxy\u001b[0m\u001b[0;34m[\u001b[0m\u001b[0;36m0\u001b[0m\u001b[0;34m]\u001b[0m\u001b[0;34m)\u001b[0m\u001b[0;34m\u001b[0m\u001b[0;34m\u001b[0m\u001b[0m\n\u001b[0m\u001b[1;32m    488\u001b[0m             \u001b[0my\u001b[0m \u001b[0;34m=\u001b[0m \u001b[0m_check_1d\u001b[0m\u001b[0;34m(\u001b[0m\u001b[0mxy\u001b[0m\u001b[0;34m[\u001b[0m\u001b[0;36m1\u001b[0m\u001b[0;34m]\u001b[0m\u001b[0;34m)\u001b[0m\u001b[0;34m\u001b[0m\u001b[0;34m\u001b[0m\u001b[0m\n\u001b[1;32m    489\u001b[0m         \u001b[0;32melse\u001b[0m\u001b[0;34m:\u001b[0m\u001b[0;34m\u001b[0m\u001b[0;34m\u001b[0m\u001b[0m\n",
      "\u001b[0;32m/usr/lib/python3/dist-packages/matplotlib/cbook/__init__.py\u001b[0m in \u001b[0;36m_check_1d\u001b[0;34m(x)\u001b[0m\n\u001b[1;32m   1325\u001b[0m                     message='Support for multi-dimensional indexing')\n\u001b[1;32m   1326\u001b[0m \u001b[0;34m\u001b[0m\u001b[0m\n\u001b[0;32m-> 1327\u001b[0;31m                 \u001b[0mndim\u001b[0m \u001b[0;34m=\u001b[0m \u001b[0mx\u001b[0m\u001b[0;34m[\u001b[0m\u001b[0;34m:\u001b[0m\u001b[0;34m,\u001b[0m \u001b[0;32mNone\u001b[0m\u001b[0;34m]\u001b[0m\u001b[0;34m.\u001b[0m\u001b[0mndim\u001b[0m\u001b[0;34m\u001b[0m\u001b[0;34m\u001b[0m\u001b[0m\n\u001b[0m\u001b[1;32m   1328\u001b[0m                 \u001b[0;31m# we have definitely hit a pandas index or series object\u001b[0m\u001b[0;34m\u001b[0m\u001b[0;34m\u001b[0m\u001b[0m\n\u001b[1;32m   1329\u001b[0m                 \u001b[0;31m# cast to a numpy array.\u001b[0m\u001b[0;34m\u001b[0m\u001b[0;34m\u001b[0m\u001b[0m\n",
      "\u001b[0;32m~/.local/lib/python3.10/site-packages/pandas/core/indexes/base.py\u001b[0m in \u001b[0;36m__getitem__\u001b[0;34m(self, key)\u001b[0m\n\u001b[1;32m   5417\u001b[0m         \u001b[0;31m# Because we ruled out integer above, we always get an arraylike here\u001b[0m\u001b[0;34m\u001b[0m\u001b[0;34m\u001b[0m\u001b[0m\n\u001b[1;32m   5418\u001b[0m         \u001b[0;32mif\u001b[0m \u001b[0mresult\u001b[0m\u001b[0;34m.\u001b[0m\u001b[0mndim\u001b[0m \u001b[0;34m>\u001b[0m \u001b[0;36m1\u001b[0m\u001b[0;34m:\u001b[0m\u001b[0;34m\u001b[0m\u001b[0;34m\u001b[0m\u001b[0m\n\u001b[0;32m-> 5419\u001b[0;31m             \u001b[0mdisallow_ndim_indexing\u001b[0m\u001b[0;34m(\u001b[0m\u001b[0mresult\u001b[0m\u001b[0;34m)\u001b[0m\u001b[0;34m\u001b[0m\u001b[0;34m\u001b[0m\u001b[0m\n\u001b[0m\u001b[1;32m   5420\u001b[0m \u001b[0;34m\u001b[0m\u001b[0m\n\u001b[1;32m   5421\u001b[0m         \u001b[0;31m# NB: Using _constructor._simple_new would break if MultiIndex\u001b[0m\u001b[0;34m\u001b[0m\u001b[0;34m\u001b[0m\u001b[0m\n",
      "\u001b[0;32m~/.local/lib/python3.10/site-packages/pandas/core/indexers/utils.py\u001b[0m in \u001b[0;36mdisallow_ndim_indexing\u001b[0;34m(result)\u001b[0m\n\u001b[1;32m    339\u001b[0m     \"\"\"\n\u001b[1;32m    340\u001b[0m     \u001b[0;32mif\u001b[0m \u001b[0mnp\u001b[0m\u001b[0;34m.\u001b[0m\u001b[0mndim\u001b[0m\u001b[0;34m(\u001b[0m\u001b[0mresult\u001b[0m\u001b[0;34m)\u001b[0m \u001b[0;34m>\u001b[0m \u001b[0;36m1\u001b[0m\u001b[0;34m:\u001b[0m\u001b[0;34m\u001b[0m\u001b[0;34m\u001b[0m\u001b[0m\n\u001b[0;32m--> 341\u001b[0;31m         raise ValueError(\n\u001b[0m\u001b[1;32m    342\u001b[0m             \u001b[0;34m\"Multi-dimensional indexing (e.g. `obj[:, None]`) is no longer \"\u001b[0m\u001b[0;34m\u001b[0m\u001b[0;34m\u001b[0m\u001b[0m\n\u001b[1;32m    343\u001b[0m             \u001b[0;34m\"supported. Convert to a numpy array before indexing instead.\"\u001b[0m\u001b[0;34m\u001b[0m\u001b[0;34m\u001b[0m\u001b[0m\n",
      "\u001b[0;31mValueError\u001b[0m: Multi-dimensional indexing (e.g. `obj[:, None]`) is no longer supported. Convert to a numpy array before indexing instead."
     ]
    },
    {
     "data": {
      "image/png": "[encoded data removed]",
      "text/plain": [
       "<Figure size 1080x1440 with 1 Axes>"
      ]
     },
     "metadata": {
      "needs_background": "light"
     },
     "output_type": "display_data"
    }
   ],
   "source": [
    "# Create histograms for all numeric columns\n",
    "numeric_cols = df_clean.select_dtypes(include=['float64', 'int64']).columns\n",
    "n_cols = 3\n",
    "n_rows = (len(numeric_cols) + n_cols - 1) // n_cols\n",
    "plt.figure(figsize=(15, n_rows * 4))\n",
    "for i, col in enumerate(numeric_cols):\n",
    "    plt.subplot(n_rows, n_cols, i + 1)\n",
    "    sns.histplot(df_clean[col].dropna(), kde=True)\n",
    "    plt.title(f'Distribution of {col}')\n",
    "plt.tight_layout()\n",
    "plt.savefig('exploratory_data_analysis/histograms.png')\n",
    "plt.show()\n",
    "plt.close()"
   ]
  },
  {
   "cell_type": "code",
   "execution_count": null,
   "metadata": {},
   "outputs": [],
   "source": [
    "# Create box plots for all numeric columns\n",
    "plt.figure(figsize=(15, 10))\n",
    "df_clean_melt = pd.melt(df_clean[numeric_cols])\n",
    "sns.boxplot(x='variable', y='value', data=df_clean_melt)\n",
    "plt.xticks(rotation=90)\n",
    "plt.title('Box Plots of Numeric Variables')\n",
    "plt.tight_layout()\n",
    "plt.savefig('exploratory_data_analysis/boxplots.png')\n",
    "plt.show()\n",
    "plt.close()"
   ]
  },
  {
   "cell_type": "code",
   "execution_count": null,
   "metadata": {},
   "outputs": [],
   "source": [
    "# Create time series plots for key pollutants\n",
    "# First, ensure datetime format\n",
    "df_clean['DateTime'] = pd.to_datetime(df_clean['Date'].astype(str) + ' ' + df_clean['Time'].astype(str))\n",
    "df_clean = df_clean.set_index('DateTime')"
   ]
  },
  {
   "cell_type": "code",
   "execution_count": null,
   "metadata": {},
   "outputs": [],
   "source": [
    "# Plot time series for CO, NOx, and NO2\n",
    "pollutants = ['CO(GT)', 'NOx(GT)', 'NO2(GT)']\n",
    "plt.figure(figsize=(15, 12))\n",
    "for i, pollutant in enumerate(pollutants):\n",
    "    plt.subplot(3, 1, i + 1)\n",
    "    df_clean[pollutant].resample('D').mean().plot()\n",
    "    plt.title(f'Daily Average {pollutant}')\n",
    "    plt.ylabel('Concentration')\n",
    "plt.tight_layout()\n",
    "plt.savefig('exploratory_data_analysis/time_series_pollutants.png')\n",
    "plt.show()\n",
    "plt.close()"
   ]
  },
  {
   "cell_type": "code",
   "execution_count": null,
   "metadata": {},
   "outputs": [],
   "source": [
    "# Plot environmental variables\n",
    "env_vars = ['T', 'RH', 'AH']\n",
    "plt.figure(figsize=(15, 12))\n",
    "for i, var in enumerate(env_vars):\n",
    "    plt.subplot(3, 1, i + 1)\n",
    "    df_clean[var].resample('D').mean().plot()\n",
    "    plt.title(f'Daily Average {var}')\n",
    "plt.tight_layout()\n",
    "plt.savefig('exploratory_data_analysis/time_series_env.png')\n",
    "plt.show()\n",
    "plt.close()"
   ]
  },
  {
   "cell_type": "code",
   "execution_count": null,
   "metadata": {},
   "outputs": [],
   "source": [
    "# Create a pair plot for key variables\n",
    "key_vars = ['CO(GT)', 'NOx(GT)', 'NO2(GT)', 'T', 'RH']\n",
    "plt.figure(figsize=(12, 10))\n",
    "sns.pairplot(df_clean[key_vars].dropna().sample(1000))  # Sample to speed up plotting\n",
    "plt.savefig('exploratory_data_analysis/pairplot.png')\n",
    "plt.show()\n",
    "plt.close()"
   ]
  },
  {
   "cell_type": "markdown",
   "metadata": {},
   "source": [
    "## EDA Summary: Key Findings and Observations\n",
    "\n",
    "### Data Description and Patterns\n",
    "- The dataset contains 9,357 hourly records of air quality and meteorological variables from an Italian city.\n",
    "- Key variables include concentrations of CO, NOx, NO2, C6H6, and sensor responses, as well as temperature (T), relative humidity (RH), and absolute humidity (AH).\n",
    "- There are significant missing values in some variables, especially NMHC(GT) (~90% missing), and moderate missingness in CO(GT), NOx(GT), and NO2(GT) (~18%).\n",
    "- The summary statistics show a wide range of values for pollutants, with some variables (e.g., CO(GT), NOx(GT)) having outliers and skewed distributions.\n",
    "\n",
    "### Visual Patterns and Anomalies\n",
    "- Histograms reveal that many pollutant concentrations are right-skewed, with a majority of values clustered at the lower end and a long tail of higher values.\n",
    "- Box plots confirm the presence of outliers, especially for CO(GT), NOx(GT), and C6H6(GT).\n",
    "- Time series plots show clear daily and seasonal trends in pollutant concentrations and meteorological variables. For example, CO and NOx levels tend to be higher in colder months.\n",
    "- Pair plots (scatter plots) indicate positive correlations between some pollutants (e.g., CO and NOx), and relationships between temperature/humidity and pollutant levels.\n",
    "\n",
    "### Interesting Observations\n",
    "- The high proportion of missing data in NMHC(GT) may require imputation or exclusion from some analyses.\n",
    "- Outliers and non-normal distributions suggest the need for robust statistical methods or data transformation in further modeling.\n",
    "- The data's temporal structure (hourly, with date and time) enables time series analysis and investigation of diurnal/seasonal cycles.\n",
    "\n",
    "### Next Steps\n",
    "- Address missing values and outliers in preprocessing.\n",
    "- Explore feature engineering and correlation analysis for predictive modeling.\n",
    "- Consider stratified or time-based data splitting for model validation."
   ]
  },
  {
   "cell_type": "code",
   "execution_count": null,
   "metadata": {},
   "outputs": [],
   "source": [
    "print(\"Exploratory data analysis completed. Visualizations saved to figures/ directory\")"
   ]
  },
  {
   "cell_type": "markdown",
   "metadata": {},
   "source": [
    "##########################################################\n",
    "# Phase 3: Data Preprocessing\n",
    "#########################################################"
   ]
  },
  {
   "cell_type": "code",
   "execution_count": null,
   "metadata": {},
   "outputs": [],
   "source": [
    "print(\"\\n--- Phase 3.1: Initial Overview, Duplicates, and Missing Values ---\")"
   ]
  },
  {
   "cell_type": "code",
   "execution_count": null,
   "metadata": {},
   "outputs": [],
   "source": [
    "# Initial overview\n",
    "print(\"Initial Dataset Overview:\")\n",
    "print(f\"Number of observations: {airquality.shape[0]}\")\n",
    "print(f\"Number of variables: {airquality.shape[1]}\")"
   ]
  },
  {
   "cell_type": "code",
   "execution_count": null,
   "metadata": {},
   "outputs": [],
   "source": [
    "# Check and remove duplicates\n",
    "duplicates = airquality.duplicated().sum()\n",
    "print(f\"\\nDuplicate Records: {duplicates}\")\n",
    "if duplicates > 0:\n",
    "    print(\"Removing duplicate records...\")\n",
    "    airquality = airquality.drop_duplicates()\n",
    "    print(f\"Dataset shape after removing duplicates: {airquality.shape}\")\n",
    "else:\n",
    "    print(\"No duplicate records found.\")"
   ]
  },
  {
   "cell_type": "code",
   "execution_count": null,
   "metadata": {},
   "outputs": [],
   "source": [
    "# Handle -200 as missing values\n",
    "airquality_clean = airquality.copy()\n",
    "print(\"\\nMissing Values Before Treatment:\")\n",
    "for col in airquality_clean.columns:\n",
    "    if airquality_clean[col].dtype != 'datetime64[ns]' and airquality_clean[col].dtype != 'object':\n",
    "        mask = airquality_clean[col] == -200\n",
    "        missing_count = mask.sum()\n",
    "        if missing_count > 0:\n",
    "            print(f\"{col}: {missing_count} missing values ({missing_count/len(airquality_clean)*100:.2f}%)\")\n",
    "            airquality_clean.loc[mask, col] = np.nan\n",
    "\n",
    "print(\"\\nMissing Values Treatment Strategy:\")\n",
    "for col in airquality_clean.columns:\n",
    "    if col not in ['Date', 'Time'] and airquality_clean[col].isna().sum() > 0:\n",
    "        missing_pct = airquality_clean[col].isna().sum() / len(airquality_clean) * 100\n",
    "        if missing_pct > 80:\n",
    "            print(f\"{col}: {missing_pct:.2f}% missing - Column will be dropped\")\n",
    "        elif missing_pct > 30:\n",
    "            print(f\"{col}: {missing_pct:.2f}% missing - Sensor correlations will be used for imputation\")\n",
    "        else:\n",
    "            print(f\"{col}: {missing_pct:.2f}% missing - Forward fill with rolling mean\")\n",
    "\n",
    "# Drop high-missing column\n",
    "if 'NMHC(GT)' in airquality_clean.columns and airquality_clean['NMHC(GT)'].isna().sum() / len(airquality_clean) > 0.8:\n",
    "    print(\"Dropping NMHC(GT) due to excessive missing values\")\n",
    "    airquality_clean = airquality_clean.drop(columns=['NMHC(GT)'])"
   ]
  },
  {
   "cell_type": "code",
   "execution_count": null,
   "metadata": {},
   "outputs": [],
   "source": [
    "print(\"\\n--- Phase 3.2: Imputation and Outlier Handling ---\")"
   ]
  },
  {
   "cell_type": "code",
   "execution_count": null,
   "metadata": {},
   "outputs": [],
   "source": [
    "# Set datetime index\n",
    "airquality_clean['DateTime'] = pd.to_datetime(airquality_clean['Date'].astype(str) + ' ' + airquality_clean['Time'].astype(str))\n",
    "airquality_clean = airquality_clean.set_index('DateTime').sort_index()"
   ]
  },
  {
   "cell_type": "code",
   "execution_count": null,
   "metadata": {},
   "outputs": [],
   "source": [
    "# Sensor-based imputation\n",
    "pollutant_sensor_pairs = [('CO(GT)', 'PT08.S1(CO)'), ('NOx(GT)', 'PT08.S3(NOx)'), ('NO2(GT)', 'PT08.S4(NO2)')]\n",
    "for pollutant, sensor in pollutant_sensor_pairs:\n",
    "    if pollutant in airquality_clean.columns and sensor in airquality_clean.columns:\n",
    "        if airquality_clean[pollutant].isna().sum() > 0:\n",
    "            valid_data = airquality_clean[[pollutant, sensor]].dropna()\n",
    "            if len(valid_data) > 0:\n",
    "                correlation = valid_data[pollutant].corr(valid_data[sensor])\n",
    "                print(f\"Correlation between {pollutant} and {sensor}: {correlation:.4f}\")\n",
    "                if abs(correlation) > 0.5:\n",
    "                    model = LinearRegression()\n",
    "                    model.fit(valid_data[[sensor]], valid_data[pollutant])\n",
    "                    predict_indices = airquality_clean[pollutant].isna() & ~airquality_clean[sensor].isna()\n",
    "                    airquality_clean.loc[predict_indices, pollutant] = model.predict(airquality_clean.loc[predict_indices, [sensor]])\n",
    "                    print(f\"Used regression model to impute {predict_indices.sum()} values in {pollutant}\")"
   ]
  },
  {
   "cell_type": "code",
   "execution_count": null,
   "metadata": {},
   "outputs": [],
   "source": [
    "# Rolling mean and fill\n",
    "for col in airquality_clean.columns:\n",
    "    if col not in ['Date', 'Time'] and airquality_clean[col].isna().sum() > 0:\n",
    "        missing_before = airquality_clean[col].isna().sum()\n",
    "        rolling_mean = airquality_clean[col].rolling(window=24, min_periods=1).mean()\n",
    "        airquality_clean[col] = airquality_clean[col].fillna(rolling_mean)\n",
    "        if airquality_clean[col].isna().sum() > 0:\n",
    "            airquality_clean[col] = airquality_clean[col].ffill()\n",
    "        if airquality_clean[col].isna().sum() > 0:\n",
    "            airquality_clean[col] = airquality_clean[col].bfill()\n",
    "        if airquality_clean[col].isna().sum() > 0:\n",
    "            airquality_clean[col] = airquality_clean[col].fillna(airquality_clean[col].mean())\n",
    "        print(f\"{col}: Imputed {missing_before} missing values\")\n",
    "\n",
    "print(f\"\\nRemaining missing values: {airquality_clean.isna().sum().sum()}\")"
   ]
  },
  {
   "cell_type": "code",
   "execution_count": null,
   "metadata": {},
   "outputs": [],
   "source": [
    "# Outlier handling\n",
    "numeric_cols = airquality_clean.select_dtypes(include=['float64', 'int64']).columns\n",
    "numeric_cols = [col for col in numeric_cols if col not in ['Date', 'Time']]"
   ]
  },
  {
   "cell_type": "code",
   "execution_count": null,
   "metadata": {},
   "outputs": [],
   "source": [
    "# Boxplot before\n",
    "plt.figure(figsize=(15, 10))\n",
    "sns.boxplot(x='variable', y='value', data=pd.melt(airquality_clean.reset_index()[numeric_cols]))\n",
    "plt.xticks(rotation=90)\n",
    "plt.title('Box Plots Before Outlier Treatment')\n",
    "plt.tight_layout()\n",
    "os.makedirs('preprocessing', exist_ok=True)\n",
    "plt.savefig('preprocessing/boxplots_before_treatment.png')\n",
    "plt.show()\n",
    "plt.close()"
   ]
  },
  {
   "cell_type": "code",
   "execution_count": null,
   "metadata": {},
   "outputs": [],
   "source": [
    "# Detect and cap outliers\n",
    "for col in numeric_cols:\n",
    "    Q1 = airquality_clean[col].quantile(0.25)\n",
    "    Q3 = airquality_clean[col].quantile(0.75)\n",
    "    IQR = Q3 - Q1\n",
    "    lower = Q1 - 1.5 * IQR\n",
    "    upper = Q3 + 1.5 * IQR\n",
    "    outliers = ((airquality_clean[col] < lower) | (airquality_clean[col] > upper)).sum()\n",
    "    print(f\"{col}: {outliers} outliers detected\")\n",
    "    if outliers > 0:\n",
    "        airquality_clean[col] = airquality_clean[col].clip(lower, upper)\n",
    "        print(f\"  - Outliers capped between {lower:.2f} and {upper:.2f}\")"
   ]
  },
  {
   "cell_type": "code",
   "execution_count": null,
   "metadata": {},
   "outputs": [],
   "source": [
    "# Boxplot after\n",
    "plt.figure(figsize=(15, 10))\n",
    "sns.boxplot(x='variable', y='value', data=pd.melt(airquality_clean.reset_index()[numeric_cols]))\n",
    "plt.xticks(rotation=90)\n",
    "plt.title('Box Plots After Outlier Treatment')\n",
    "plt.tight_layout()\n",
    "plt.savefig('preprocessing/boxplots_after_treatment.png')\n",
    "plt.show()\n",
    "plt.close()\n"
   ]
  },
  {
   "cell_type": "code",
   "execution_count": null,
   "metadata": {},
   "outputs": [],
   "source": [
    "print(\"\\n--- Phase 3.3: Data Transformation and Finalization ---\")"
   ]
  },
  {
   "cell_type": "code",
   "execution_count": null,
   "metadata": {},
   "outputs": [],
   "source": [
    "# Standardization\n",
    "print(\"Standardizing numeric features...\")\n",
    "airquality_standardized = airquality_clean.copy()\n",
    "scaler = StandardScaler()\n",
    "for col in numeric_cols:\n",
    "    airquality_standardized[col] = scaler.fit_transform(airquality_standardized[[col]])"
   ]
  },
  {
   "cell_type": "code",
   "execution_count": null,
   "metadata": {},
   "outputs": [],
   "source": [
    "# Save preprocessed and standardized data\n",
    "airquality_clean.to_csv('preprocessing/preprocessed_data.csv')\n",
    "airquality_standardized.to_csv('preprocessing/standardized_data.csv')\n",
    "\n",
    "print(f\"\\nFinal Preprocessed Dataset Shape: {airquality_clean.shape}\")\n",
    "print(f\"Columns: {list(airquality_clean.columns)}\")\n",
    "print(\"Preprocessed data saved to 'preprocessing/preprocessed_data.csv'\")\n",
    "print(\"Standardized data saved to 'preprocessing/standardized_data.csv'\")\n"
   ]
  },
  {
   "cell_type": "code",
   "execution_count": null,
   "metadata": {},
   "outputs": [],
   "source": [
    "print(\"Data preprocessing completed. Results saved to preprocessing/ directory\")"
   ]
  },
  {
   "cell_type": "markdown",
   "metadata": {},
   "source": [
    "##############################################################\n",
    "# Phase 4: Correlation Analysis\n",
    "##############################################################"
   ]
  },
  {
   "cell_type": "markdown",
   "metadata": {},
   "source": [
    "In this section, we will:\n",
    "- Calculate and visualize the correlation matrix for all numeric variables.\n",
    "- Identify and discuss significant correlations (strong positive/negative).\n",
    "- Visualize key relationships with scatter plots.\n",
    "- Analyze correlations between pollutants, environmental factors, and sensor performance."
   ]
  },
  {
   "cell_type": "code",
   "execution_count": null,
   "metadata": {},
   "outputs": [],
   "source": [
    "# Load the preprocessed data\n",
    "df = pd.read_csv('preprocessing/preprocessed_data.csv', index_col=0, parse_dates=True)\n",
    "df.head()"
   ]
  },
  {
   "cell_type": "markdown",
   "metadata": {},
   "source": [
    "### Correlation Matrix Calculation\n",
    "We calculate the correlation matrix for all numeric variables in the dataset."
   ]
  },
  {
   "cell_type": "code",
   "execution_count": null,
   "metadata": {},
   "outputs": [],
   "source": [
    "# Select only numeric columns\n",
    "numeric_cols = df.select_dtypes(include=['float64', 'int64']).columns\n",
    "corr_matrix = df[numeric_cols].corr()\n",
    "\n",
    "# Save correlation matrix to CSV\n",
    "corr_matrix.to_csv('correlation_analysis/correlation_matrix.csv')"
   ]
  },
  {
   "cell_type": "code",
   "execution_count": null,
   "metadata": {},
   "outputs": [],
   "source": [
    "corr_matrix"
   ]
  },
  {
   "cell_type": "markdown",
   "metadata": {},
   "source": [
    "### Correlation Matrix Heatmap\n",
    "Visualize the correlation matrix as a heatmap to better understand relationships between variables."
   ]
  },
  {
   "cell_type": "code",
   "execution_count": null,
   "metadata": {},
   "outputs": [],
   "source": [
    "# Create heatmap visualization of correlation matrix\n",
    "plt.figure(figsize=(12, 10))\n",
    "sns.heatmap(corr_matrix, annot=True, cmap='coolwarm', fmt='.2f', linewidths=0.5)\n",
    "plt.title('Correlation Matrix Heatmap')\n",
    "plt.tight_layout()\n",
    "plt.savefig('correlation_analysis/correlation_heatmap.png')\n",
    "plt.show()\n",
    "plt.close()"
   ]
  },
  {
   "cell_type": "markdown",
   "metadata": {},
   "source": [
    "### Significant Correlations\n",
    "Identify strong positive (r > 0.7) and strong negative (r < -0.7) correlations."
   ]
  },
  {
   "cell_type": "code",
   "execution_count": null,
   "metadata": {},
   "outputs": [],
   "source": [
    "# Get upper triangle of correlation matrix to avoid duplicates\n",
    "upper_tri = corr_matrix.where(np.triu(np.ones(corr_matrix.shape), k=1).astype(bool))\n",
    "\n",
    "# Find strong positive correlations\n",
    "strong_pos = [(i, j, corr_matrix.loc[i, j]) for i in corr_matrix.index for j in corr_matrix.columns \n",
    "              if corr_matrix.loc[i, j] > 0.7 and i != j]\n",
    "strong_pos.sort(key=lambda x: x[2], reverse=True)\n",
    "\n",
    "# Find strong negative correlations\n",
    "strong_neg = [(i, j, corr_matrix.loc[i, j]) for i in corr_matrix.index for j in corr_matrix.columns \n",
    "              if corr_matrix.loc[i, j] < -0.7 and i != j]\n",
    "strong_neg.sort(key=lambda x: x[2])\n",
    "\n",
    "print('Strong Positive Correlations (r > 0.7):')\n",
    "if strong_pos:\n",
    "    for i, j, corr in strong_pos:\n",
    "        print(f'{i} and {j}: r = {corr:.4f}')\n",
    "else:\n",
    "    print('No strong positive correlations found (r > 0.7)')\n",
    "\n",
    "print('\\nStrong Negative Correlations (r < -0.7):')\n",
    "if strong_neg:\n",
    "    for i, j, corr in strong_neg:\n",
    "        print(f'{i} and {j}: r = {corr:.4f}')\n",
    "else:\n",
    "    print('No strong negative correlations found (r < -0.7)')"
   ]
  },
  {
   "cell_type": "markdown",
   "metadata": {},
   "source": [
    "### Scatter Plots for Top Correlations\n",
    "Visualize the strongest positive and negative correlations with scatter plots."
   ]
  },
  {
   "cell_type": "code",
   "execution_count": null,
   "metadata": {},
   "outputs": [],
   "source": [
    "all_strong = strong_pos + strong_neg\n",
    "all_strong.sort(key=lambda x: abs(x[2]), reverse=True)\n",
    "    \n",
    "# Create scatter plots for top correlations\n",
    "for idx, (var1, var2, corr) in enumerate(all_strong[:]):\n",
    "    plt.figure(figsize=(10, 6))\n",
    "    sns.scatterplot(x=df[var1], y=df[var2], alpha=0.5)\n",
    "    plt.title(f'Correlation between {var1} and {var2} (r = {corr:.4f})')\n",
    "    plt.xlabel(var1)\n",
    "    plt.ylabel(var2)\n",
    "    plt.tight_layout()\n",
    "    plt.savefig(f'correlation_analysis/scatter_{var1}_{var2}.png')\n",
    "    plt.show()\n",
    "    plt.close()"
   ]
  },
  {
   "cell_type": "markdown",
   "metadata": {},
   "source": [
    "### Pollutant and Environmental Factor Correlations\n",
    "Analyze correlations between pollutants and environmental factors."
   ]
  },
  {
   "cell_type": "code",
   "execution_count": null,
   "metadata": {},
   "outputs": [],
   "source": [
    "pollutant_cols = ['CO(GT)', 'C6H6(GT)', 'NOx(GT)', 'NO2(GT)']\n",
    "env_cols = ['T', 'RH', 'AH']\n",
    "subset_corr = df[pollutant_cols + env_cols].corr()\n",
    "plt.figure(figsize=(10, 8))\n",
    "sns.heatmap(subset_corr, annot=True, cmap='coolwarm', fmt='.2f', linewidths=0.5)\n",
    "plt.title('Correlation Between Pollutants and Environmental Factors')\n",
    "plt.tight_layout()\n",
    "plt.savefig('correlation_analysis/pollutant_env_correlation.png')\n",
    "plt.show()\n",
    "plt.close()\n",
    "subset_corr.loc[pollutant_cols, env_cols]"
   ]
  },
  {
   "cell_type": "markdown",
   "metadata": {},
   "source": [
    "### Sensor Performance Analysis\n",
    "Analyze the correlation between ground truth pollutant measurements and corresponding sensor readings."
   ]
  },
  {
   "cell_type": "code",
   "execution_count": null,
   "metadata": {},
   "outputs": [],
   "source": [
    "sensor_pairs = [\n",
    "    ('CO(GT)', 'PT08.S1(CO)'),\n",
    "    ('NOx(GT)', 'PT08.S3(NOx)'),\n",
    "    ('NO2(GT)', 'PT08.S4(NO2)')\n",
    "]\n",
    "for gt, sensor in sensor_pairs:\n",
    "    corr_val = corr_matrix.loc[gt, sensor]\n",
    "    print(f'{gt} and {sensor}: r = {corr_val:.4f}')\n",
    "    plt.figure(figsize=(10, 6))\n",
    "    sns.scatterplot(x=df[gt], y=df[sensor], alpha=0.5)\n",
    "    plt.title(f'Correlation between {gt} and {sensor} (r = {corr_val:.4f})')\n",
    "    plt.xlabel(gt)\n",
    "    plt.ylabel(sensor)\n",
    "    plt.tight_layout()\n",
    "    plt.savefig(f'correlation_analysis/sensor_{gt}_{sensor}.png')\n",
    "    plt.show()\n",
    "    plt.close()"
   ]
  },
  {
   "cell_type": "markdown",
   "metadata": {},
   "source": [
    "### Correlation Analysis Summary\n",
    "- The strongest correlations in the dataset are highlighted above.\n",
    "- Pollutant and environmental factor correlations reveal how weather conditions may influence pollution levels.\n",
    "- Sensor performance analysis shows the relationship between sensor readings and ground truth measurements.\n",
    "- These insights can guide feature selection and further modeling."
   ]
  },
  {
   "cell_type": "code",
   "execution_count": null,
   "metadata": {},
   "outputs": [],
   "source": [
    "print(\"Correlation analysis completed. Results saved to correlation_analysis/ directory\")"
   ]
  },
  {
   "cell_type": "markdown",
   "metadata": {},
   "source": [
    "##########################################################\n",
    "# Phase 5: Time Series Analysis\n",
    "###########################################################"
   ]
  },
  {
   "cell_type": "code",
   "execution_count": null,
   "metadata": {},
   "outputs": [],
   "source": [
    "# Print the heading and description\n",
    "print('# Time Series Analysis Report\\n')\n",
    "\n",
    "print('## Overview')\n",
    "print('This report presents the results of time series analysis performed on the Air Quality dataset.')\n",
    "print(f'The dataset covers the period from {df.index.min().strftime(\"%Y-%m-%d\")} to {df.index.max().strftime(\"%Y-%m-%d\")}.\\n')"
   ]
  },
  {
   "cell_type": "markdown",
   "metadata": {},
   "source": [
    "Phase 5: Time Series Analysis"
   ]
  },
  {
   "cell_type": "code",
   "execution_count": null,
   "metadata": {},
   "outputs": [],
   "source": [
    "# Select key pollutants for time series analysis\n",
    "pollutants = ['CO(GT)', 'NOx(GT)', 'NO2(GT)', 'C6H6(GT)']\n",
    "\n",
    "# Resample data to daily averages for better visualization\n",
    "df_daily = df[pollutants].resample('D').mean()"
   ]
  },
  {
   "cell_type": "code",
   "execution_count": null,
   "metadata": {},
   "outputs": [],
   "source": [
    "print('## Time Series Visualization')\n",
    "print('Daily average concentrations of key pollutants have been plotted to visualize their temporal patterns.')\n",
    "\n",
    "# Plot time series for each pollutant\n",
    "plt.figure(figsize=(15, 10))\n",
    "for i, pollutant in enumerate(pollutants):\n",
    "    plt.subplot(len(pollutants), 1, i+1)\n",
    "    df_daily[pollutant].plot()\n",
    "    plt.title(f'Daily Average {pollutant}')\n",
    "    plt.ylabel('Concentration')\n",
    "plt.tight_layout()\n",
    "plt.show()  # Display the plot instead of saving\n",
    "\n"
   ]
  },
  {
   "cell_type": "code",
   "execution_count": null,
   "metadata": {},
   "outputs": [],
   "source": [
    "print('Monthly average concentrations have also been plotted to better visualize seasonal patterns.')\n",
    "\n",
    "# Monthly averages for seasonal patterns\n",
    "df_monthly = df[pollutants].resample('M').mean()\n",
    "\n",
    "# Plot monthly averages\n",
    "plt.figure(figsize=(15, 10))\n",
    "for i, pollutant in enumerate(pollutants):\n",
    "    plt.subplot(len(pollutants), 1, i+1)\n",
    "    df_monthly[pollutant].plot()\n",
    "    plt.title(f'Monthly Average {pollutant}')\n",
    "    plt.ylabel('Concentration')\n",
    "plt.tight_layout()\n",
    "plt.show()  # Display the plot instead of saving\n",
    "\n"
   ]
  },
  {
   "cell_type": "code",
   "execution_count": null,
   "metadata": {},
   "outputs": [],
   "source": [
    "print('Hourly patterns have been analyzed to identify daily cycles in pollutant concentrations.')\n",
    "\n",
    "# Hourly patterns (average by hour of day)\n",
    "df['hour'] = df.index.hour\n",
    "hourly_patterns = df.groupby('hour')[pollutants].mean()\n",
    "\n",
    "# Plot hourly patterns\n",
    "plt.figure(figsize=(15, 10))\n",
    "for i, pollutant in enumerate(pollutants):\n",
    "    plt.subplot(len(pollutants), 1, i+1)\n",
    "    hourly_patterns[pollutant].plot()\n",
    "    plt.title(f'Average {pollutant} by Hour of Day')\n",
    "    plt.ylabel('Concentration')\n",
    "    plt.xlabel('Hour of Day')\n",
    "    plt.xticks(range(0, 24, 2))\n",
    "plt.tight_layout()\n",
    "plt.show()  # Display the plot instead of saving\n",
    "\n"
   ]
  },
  {
   "cell_type": "code",
   "execution_count": null,
   "metadata": {},
   "outputs": [],
   "source": [
    "print('Weekly patterns have been analyzed to identify variations across days of the week.')\n",
    "\n",
    "# Weekly patterns (average by day of week)\n",
    "df['day_of_week'] = df.index.dayofweek\n",
    "weekly_patterns = df.groupby('day_of_week')[pollutants].mean()\n",
    "\n",
    "# Plot weekly patterns\n",
    "plt.figure(figsize=(15, 10))\n",
    "days = ['Monday', 'Tuesday', 'Wednesday', 'Thursday', 'Friday', 'Saturday', 'Sunday']\n",
    "for i, pollutant in enumerate(pollutants):\n",
    "    plt.subplot(len(pollutants), 1, i+1)\n",
    "    weekly_patterns[pollutant].plot(kind='bar')\n",
    "    plt.title(f'Average {pollutant} by Day of Week')\n",
    "    plt.ylabel('Concentration')\n",
    "    plt.xlabel('Day of Week')\n",
    "    plt.xticks(range(7), days, rotation=45)\n",
    "plt.tight_layout()\n",
    "plt.show()  # Display the plot instead of saving"
   ]
  },
  {
   "cell_type": "code",
   "execution_count": null,
   "metadata": {},
   "outputs": [],
   "source": [
    "print('\\n## Time Series Decomposition')\n",
    "print('Time series decomposition separates a time series into its trend, seasonal, and residual components.\\n')\n",
    "\n",
    "# Select CO(GT) for detailed decomposition analysis\n",
    "target_pollutant = 'CO(GT)'\n",
    "\n",
    "# Fill any remaining NaN values for decomposition\n",
    "ts = df_daily[target_pollutant].fillna(method='ffill').fillna(method='bfill')\n",
    "\n",
    "# Perform time series decomposition\n",
    "decomposition = seasonal_decompose(ts, model='additive', period=30)  # 30 days for monthly seasonality\n",
    "\n",
    "# Plot decomposition\n",
    "plt.figure(figsize=(12, 10))\n",
    "decomposition.plot()\n",
    "plt.tight_layout()\n",
    "plt.show()  # Display the plot instead of saving\n",
    "\n",
    "print(f'Decomposition of {target_pollutant} time series has been performed to separate trend, seasonality, and residual components.')\n"
   ]
  },
  {
   "cell_type": "code",
   "execution_count": null,
   "metadata": {},
   "outputs": [],
   "source": [
    "# Stationarity test\n",
    "print('\\n## Stationarity Analysis')\n",
    "print('Stationarity is an important characteristic for time series modeling. The Augmented Dickey-Fuller test is used to check for stationarity.\\n')\n",
    "\n",
    "# Perform ADF test\n",
    "result = adfuller(ts.dropna())\n",
    "\n",
    "print(f'### Augmented Dickey-Fuller Test for {target_pollutant}')\n",
    "print(f'* ADF Statistic: {result[0]:.4f}')\n",
    "print(f'* p-value: {result[1]:.4f}')\n",
    "print('* Critical Values:')\n",
    "for key, value in result[4].items():\n",
    "    print(f'  * {key}: {value:.4f}')\n",
    "\n",
    "if result[1] <= 0.05:\n",
    "    print('\\nThe time series is stationary (reject the null hypothesis).')\n",
    "else:\n",
    "    print('\\nThe time series is not stationary (fail to reject the null hypothesis).')\n",
    "    print('Differencing may be required for ARIMA modeling.')"
   ]
  },
  {
   "cell_type": "code",
   "execution_count": null,
   "metadata": {},
   "outputs": [],
   "source": [
    "print('\\n### Autocorrelation and Partial Autocorrelation Analysis')\n",
    "print('ACF and PACF plots help identify appropriate parameters for ARIMA modeling.')\n",
    "\n",
    "# ACF and PACF plots\n",
    "plt.figure(figsize=(12, 6))\n",
    "plt.subplot(121)\n",
    "plot_acf(ts.dropna(), ax=plt.gca(), lags=40)\n",
    "plt.subplot(122)\n",
    "plot_pacf(ts.dropna(), ax=plt.gca(), lags=40)\n",
    "plt.tight_layout()\n",
    "plt.show()  # Display the plot instead of saving"
   ]
  },
  {
   "cell_type": "code",
   "execution_count": null,
   "metadata": {},
   "outputs": [],
   "source": [
    "# ARIMA Modeling\n",
    "print('\\n## ARIMA Modeling and Forecasting')\n",
    "print('ARIMA (AutoRegressive Integrated Moving Average) models are used for time series forecasting.\\n')\n",
    "\n",
    "# Prepare data for ARIMA modeling\n",
    "train_size = int(len(ts) * 0.8)\n",
    "train, test = ts[:train_size], ts[train_size:]\n",
    "\n",
    "# Fit ARIMA model\n",
    "# Based on ACF/PACF analysis, we'll use a simple model for demonstration\n",
    "model = ARIMA(train, order=(1, 1, 1))  # (p, d, q) parameters\n",
    "model_fit = model.fit()\n",
    "\n",
    "# Forecast\n",
    "forecast = model_fit.forecast(steps=len(test))\n",
    "\n",
    "# OPTION 1: Try different plotting approach\n",
    "try:\n",
    "    # Create a figure\n",
    "    fig, ax = plt.subplots(figsize=(12, 6))\n",
    "    \n",
    "    # Convert data to pandas Series (if not already) with dates as index\n",
    "    if isinstance(train, pd.Series):\n",
    "        train.plot(ax=ax, label='Training Data')\n",
    "    else:\n",
    "        pd.Series(train, index=train.index).plot(ax=ax, label='Training Data')\n",
    "    \n",
    "    if isinstance(test, pd.Series):\n",
    "        test.plot(ax=ax, label='Actual Test Data')\n",
    "    else:\n",
    "        pd.Series(test, index=test.index).plot(ax=ax, label='Actual Test Data')\n",
    "    \n",
    "    if isinstance(forecast, pd.Series):\n",
    "        forecast.plot(ax=ax, label='Forecast', color='red')\n",
    "    else:\n",
    "        pd.Series(forecast, index=test.index).plot(ax=ax, label='Forecast', color='red')\n",
    "    \n",
    "    # Set title and display\n",
    "    plt.title(f'ARIMA Forecast for {target_pollutant}')\n",
    "    plt.legend()\n",
    "    plt.tight_layout()\n",
    "    plt.show()\n",
    "    \n",
    "except Exception as e:\n",
    "    print(f\"Error with Option 1: {e}\")\n",
    "    \n",
    "    # OPTION 2: Try alternative plotting with manual conversion\n",
    "    try:\n",
    "        plt.figure(figsize=(12, 6))\n",
    "        \n",
    "        # Print debugging info\n",
    "        print(f\"Train type: {type(train)}\")\n",
    "        print(f\"Train index type: {type(train.index)}\")\n",
    "        \n",
    "        # Convert everything to lists\n",
    "        train_index_list = [x for x in train.index]\n",
    "        test_index_list = [x for x in test.index]\n",
    "        train_values_list = train.tolist() if hasattr(train, 'tolist') else list(train)\n",
    "        test_values_list = test.tolist() if hasattr(test, 'tolist') else list(test)\n",
    "        forecast_list = forecast.tolist() if hasattr(forecast, 'tolist') else list(forecast)\n",
    "        \n",
    "        plt.plot(train_index_list, train_values_list, label='Training Data')\n",
    "        plt.plot(test_index_list, test_values_list, label='Actual Test Data')\n",
    "        plt.plot(test_index_list, forecast_list, label='Forecast', color='red')\n",
    "        plt.title(f'ARIMA Forecast for {target_pollutant}')\n",
    "        plt.legend()\n",
    "        plt.tight_layout()\n",
    "        plt.show()\n",
    "    except Exception as e:\n",
    "        print(f\"Error with Option 2: {e}\")\n",
    "        \n",
    "        # OPTION 3: Last resort - plot without dates\n",
    "        plt.figure(figsize=(12, 6))\n",
    "        plt.plot(train, label='Training Data')\n",
    "        plt.plot(np.arange(len(train), len(train) + len(test)), test, label='Actual Test Data')\n",
    "        plt.plot(np.arange(len(train), len(train) + len(test)), forecast, label='Forecast', color='red')\n",
    "        plt.title(f'ARIMA Forecast for {target_pollutant} (without dates)')\n",
    "        plt.legend()\n",
    "        plt.tight_layout()\n",
    "        plt.show()\n",
    "\n",
    "# Calculate error metrics\n",
    "mse = mean_squared_error(test, forecast)\n",
    "rmse = np.sqrt(mse)\n",
    "\n",
    "print('### ARIMA Model Results')\n",
    "print(f'* Model: ARIMA(1,1,1) for {target_pollutant}')\n",
    "print(f'* Mean Squared Error: {mse:.4f}')\n",
    "print(f'* Root Mean Squared Error: {rmse:.4f}')"
   ]
  },
  {
   "cell_type": "code",
   "execution_count": null,
   "metadata": {},
   "outputs": [],
   "source": [
    "print('\\n### Future Forecast')\n",
    "print(f'A 30-day forecast for {target_pollutant} has been generated using the ARIMA model.')\n",
    "\n",
    "# Future forecast\n",
    "future_steps = 30  # Forecast for next 30 days\n",
    "future_forecast = model_fit.forecast(steps=future_steps)\n",
    "\n",
    "# Create future date index\n",
    "last_date = ts.index[-1]\n",
    "future_dates = pd.date_range(start=last_date + pd.Timedelta(days=1), periods=future_steps, freq='D')\n",
    "\n",
    "# Get historical data\n",
    "historical_dates = np.array(ts.index[-90:])\n",
    "historical_values = np.array(ts.iloc[-90:])\n",
    "\n",
    "# Future forecast as numpy array\n",
    "future_dates_array = np.array(future_dates)\n",
    "future_forecast_array = np.array(future_forecast)\n",
    "\n",
    "# Plot using pandas directly (Option 1)\n",
    "try:\n",
    "    fig, ax = plt.subplots(figsize=(12, 6))\n",
    "    \n",
    "    # Create pandas Series for plotting\n",
    "    pd.Series(data=ts.iloc[-90:].values, index=ts.index[-90:]).plot(ax=ax, label='Historical Data')\n",
    "    pd.Series(data=future_forecast, index=future_dates).plot(ax=ax, label='Future Forecast', color='red')\n",
    "    \n",
    "    plt.title(f'30-Day Forecast for {target_pollutant}')\n",
    "    plt.legend()\n",
    "    plt.tight_layout()\n",
    "    plt.show()\n",
    "    \n",
    "except Exception as e:\n",
    "    print(f\"Error with Option 1: {e}\")\n",
    "    \n",
    "    # Try Option 2 with explicit conversion to lists\n",
    "    try:\n",
    "        plt.figure(figsize=(12, 6))\n",
    "        \n",
    "        # Convert to lists\n",
    "        hist_dates_list = [x for x in ts.index[-90:]]\n",
    "        hist_values_list = ts.iloc[-90:].tolist() if hasattr(ts.iloc[-90:], 'tolist') else list(ts.iloc[-90:])\n",
    "        future_dates_list = [x for x in future_dates]\n",
    "        future_forecast_list = future_forecast.tolist() if hasattr(future_forecast, 'tolist') else list(future_forecast)\n",
    "        \n",
    "        plt.plot(hist_dates_list, hist_values_list, label='Historical Data')\n",
    "        plt.plot(future_dates_list, future_forecast_list, label='Future Forecast', color='red')\n",
    "        plt.title(f'30-Day Forecast for {target_pollutant}')\n",
    "        plt.legend()\n",
    "        plt.tight_layout()\n",
    "        plt.show()\n",
    "        \n",
    "    except Exception as e:\n",
    "        print(f\"Error with Option 2: {e}\")\n",
    "        \n",
    "        # Try Option 3 - simplest approach without dates\n",
    "        plt.figure(figsize=(12, 6))\n",
    "        x_hist = np.arange(90)\n",
    "        x_future = np.arange(90, 90 + future_steps)\n",
    "        plt.plot(x_hist, ts.iloc[-90:], label='Historical Data')\n",
    "        plt.plot(x_future, future_forecast, label='Future Forecast', color='red')\n",
    "        plt.title(f'30-Day Forecast for {target_pollutant} (index only)')\n",
    "        plt.legend()\n",
    "        plt.tight_layout()\n",
    "        plt.show()"
   ]
  },
  {
   "cell_type": "code",
   "execution_count": null,
   "metadata": {},
   "outputs": [],
   "source": [
    "# Summary of findings\n",
    "print('\\n## Summary of Time Series Analysis Findings\\n')\n",
    "\n",
    "print('### Temporal Patterns')\n",
    "print('1. **Daily Patterns**: The analysis revealed distinct daily cycles in pollutant concentrations, with peaks typically occurring during morning and evening rush hours.')\n",
    "print('2. **Weekly Patterns**: Weekdays generally show higher pollution levels compared to weekends, reflecting the impact of work-related activities and traffic.')\n",
    "print('3. **Seasonal Trends**: The data shows seasonal variations in pollutant concentrations, with higher levels typically observed during winter months and lower levels during summer.\\n')\n",
    "\n",
    "print('### Stationarity and Modeling')\n",
    "if result[1] <= 0.05:\n",
    "    print(f'1. The {target_pollutant} time series is stationary according to the ADF test, making it suitable for direct ARIMA modeling.')\n",
    "else:\n",
    "    print(f'1. The {target_pollutant} time series is non-stationary according to the ADF test, requiring differencing for ARIMA modeling.')\n",
    "\n",
    "print(f'2. The ARIMA(1,1,1) model provided reasonable forecasting performance with an RMSE of {rmse:.4f}.')\n",
    "\n",
    "# Determine forecast trend\n",
    "forecast_trend = \"remain stable\"\n",
    "if future_forecast[-1] > future_forecast[0] * 1.1:\n",
    "    forecast_trend = \"increase\"\n",
    "elif future_forecast[-1] < future_forecast[0] * 0.9:\n",
    "    forecast_trend = \"decrease\"\n",
    "\n",
    "print(f'3. The 30-day forecast suggests that pollution levels will {forecast_trend} in the near future.\\n')\n",
    "\n",
    "print('### Implications')\n",
    "print('1. The identified temporal patterns can inform air quality management strategies, such as timing of traffic restrictions or industrial emissions controls.')\n",
    "print('2. The forecasting model can be used for early warning systems to alert the public about potential high pollution episodes.')\n",
    "print('3. Understanding the seasonal variations helps in planning long-term air quality improvement measures.')\n",
    "\n",
    "print(\"\\nTime series analysis completed. Results displayed without saving to files.\")"
   ]
  },
  {
   "cell_type": "code",
   "execution_count": null,
   "metadata": {},
   "outputs": [],
   "source": []
  }
 ],
 "metadata": {
  "kernelspec": {
   "display_name": "Python 3",
   "language": "python",
   "name": "python3"
  },
  "language_info": {
   "codemirror_mode": {
    "name": "ipython",
    "version": 3
   },
   "file_extension": ".py",
   "mimetype": "text/x-python",
   "name": "python",
   "nbconvert_exporter": "python",
   "pygments_lexer": "ipython3",
   "version": "3.10.12"
  }
 },
 "nbformat": 4,
 "nbformat_minor": 2
}
