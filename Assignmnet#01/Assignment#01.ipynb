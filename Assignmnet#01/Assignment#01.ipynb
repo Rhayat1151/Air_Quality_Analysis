{
 "cells": [
  {
   "cell_type": "markdown",
   "metadata": {},
   "source": [
    "# **Assignment#01**\n",
    "\n",
    "# Air Quality Analysis: Regression Model and KDE Plot"
   ]
  },
  {
   "cell_type": "markdown",
   "metadata": {},
   "source": [
    "## Importing Libraries\n",
    "\n",
    "In this cell, we import the necessary libraries for data manipulation, visualization, and machine learning. This includes `pandas`, `numpy`, `matplotlib`, `seaborn`, and `scikit-learn`."
   ]
  },
  {
   "cell_type": "code",
   "execution_count": 35,
   "metadata": {},
   "outputs": [],
   "source": [
    "import pandas as pd\n",
    "import numpy as np\n",
    "import matplotlib.pyplot as plt\n",
    "import seaborn as sns\n",
    "from sklearn.model_selection import train_test_split\n",
    "from sklearn.linear_model import LinearRegression\n",
    "from sklearn.metrics import mean_squared_error"
   ]
  },
  {
   "cell_type": "markdown",
   "metadata": {},
   "source": [
    "## Loading the Dataset\n",
    "\n",
    "Here, we load the air quality dataset from an Excel file. We display the first few rows to understand its structure and contents."
   ]
  },
  {
   "cell_type": "code",
   "execution_count": 36,
   "metadata": {},
   "outputs": [],
   "source": [
    "airquality = pd.read_excel('C:/Users/TEST/OneDrive - Higher Education Commission/Desktop/Air_Quality_Analysis/Dataset/AirQualityUCI.xlsx')"
   ]
  },
  {
   "cell_type": "code",
   "execution_count": 37,
   "metadata": {},
   "outputs": [
    {
     "data": {
      "text/html": [
       "<div>\n",
       "<style scoped>\n",
       "    .dataframe tbody tr th:only-of-type {\n",
       "        vertical-align: middle;\n",
       "    }\n",
       "\n",
       "    .dataframe tbody tr th {\n",
       "        vertical-align: top;\n",
       "    }\n",
       "\n",
       "    .dataframe thead th {\n",
       "        text-align: right;\n",
       "    }\n",
       "</style>\n",
       "<table border=\"1\" class=\"dataframe\">\n",
       "  <thead>\n",
       "    <tr style=\"text-align: right;\">\n",
       "      <th></th>\n",
       "      <th>Date</th>\n",
       "      <th>Time</th>\n",
       "      <th>CO(GT)</th>\n",
       "      <th>PT08.S1(CO)</th>\n",
       "      <th>NMHC(GT)</th>\n",
       "      <th>C6H6(GT)</th>\n",
       "      <th>PT08.S2(NMHC)</th>\n",
       "      <th>NOx(GT)</th>\n",
       "      <th>PT08.S3(NOx)</th>\n",
       "      <th>NO2(GT)</th>\n",
       "      <th>PT08.S4(NO2)</th>\n",
       "      <th>PT08.S5(O3)</th>\n",
       "      <th>T</th>\n",
       "      <th>RH</th>\n",
       "      <th>AH</th>\n",
       "    </tr>\n",
       "  </thead>\n",
       "  <tbody>\n",
       "    <tr>\n",
       "      <th>0</th>\n",
       "      <td>2004-03-10</td>\n",
       "      <td>18:00:00</td>\n",
       "      <td>2.6</td>\n",
       "      <td>1360.00</td>\n",
       "      <td>150</td>\n",
       "      <td>11.881723</td>\n",
       "      <td>1045.50</td>\n",
       "      <td>166.0</td>\n",
       "      <td>1056.25</td>\n",
       "      <td>113.0</td>\n",
       "      <td>1692.00</td>\n",
       "      <td>1267.50</td>\n",
       "      <td>13.60</td>\n",
       "      <td>48.875001</td>\n",
       "      <td>0.757754</td>\n",
       "    </tr>\n",
       "    <tr>\n",
       "      <th>1</th>\n",
       "      <td>2004-03-10</td>\n",
       "      <td>19:00:00</td>\n",
       "      <td>2.0</td>\n",
       "      <td>1292.25</td>\n",
       "      <td>112</td>\n",
       "      <td>9.397165</td>\n",
       "      <td>954.75</td>\n",
       "      <td>103.0</td>\n",
       "      <td>1173.75</td>\n",
       "      <td>92.0</td>\n",
       "      <td>1558.75</td>\n",
       "      <td>972.25</td>\n",
       "      <td>13.30</td>\n",
       "      <td>47.700000</td>\n",
       "      <td>0.725487</td>\n",
       "    </tr>\n",
       "    <tr>\n",
       "      <th>2</th>\n",
       "      <td>2004-03-10</td>\n",
       "      <td>20:00:00</td>\n",
       "      <td>2.2</td>\n",
       "      <td>1402.00</td>\n",
       "      <td>88</td>\n",
       "      <td>8.997817</td>\n",
       "      <td>939.25</td>\n",
       "      <td>131.0</td>\n",
       "      <td>1140.00</td>\n",
       "      <td>114.0</td>\n",
       "      <td>1554.50</td>\n",
       "      <td>1074.00</td>\n",
       "      <td>11.90</td>\n",
       "      <td>53.975000</td>\n",
       "      <td>0.750239</td>\n",
       "    </tr>\n",
       "    <tr>\n",
       "      <th>3</th>\n",
       "      <td>2004-03-10</td>\n",
       "      <td>21:00:00</td>\n",
       "      <td>2.2</td>\n",
       "      <td>1375.50</td>\n",
       "      <td>80</td>\n",
       "      <td>9.228796</td>\n",
       "      <td>948.25</td>\n",
       "      <td>172.0</td>\n",
       "      <td>1092.00</td>\n",
       "      <td>122.0</td>\n",
       "      <td>1583.75</td>\n",
       "      <td>1203.25</td>\n",
       "      <td>11.00</td>\n",
       "      <td>60.000000</td>\n",
       "      <td>0.786713</td>\n",
       "    </tr>\n",
       "    <tr>\n",
       "      <th>4</th>\n",
       "      <td>2004-03-10</td>\n",
       "      <td>22:00:00</td>\n",
       "      <td>1.6</td>\n",
       "      <td>1272.25</td>\n",
       "      <td>51</td>\n",
       "      <td>6.518224</td>\n",
       "      <td>835.50</td>\n",
       "      <td>131.0</td>\n",
       "      <td>1205.00</td>\n",
       "      <td>116.0</td>\n",
       "      <td>1490.00</td>\n",
       "      <td>1110.00</td>\n",
       "      <td>11.15</td>\n",
       "      <td>59.575001</td>\n",
       "      <td>0.788794</td>\n",
       "    </tr>\n",
       "  </tbody>\n",
       "</table>\n",
       "</div>"
      ],
      "text/plain": [
       "        Date      Time  CO(GT)  PT08.S1(CO)  NMHC(GT)   C6H6(GT)  \\\n",
       "0 2004-03-10  18:00:00     2.6      1360.00       150  11.881723   \n",
       "1 2004-03-10  19:00:00     2.0      1292.25       112   9.397165   \n",
       "2 2004-03-10  20:00:00     2.2      1402.00        88   8.997817   \n",
       "3 2004-03-10  21:00:00     2.2      1375.50        80   9.228796   \n",
       "4 2004-03-10  22:00:00     1.6      1272.25        51   6.518224   \n",
       "\n",
       "   PT08.S2(NMHC)  NOx(GT)  PT08.S3(NOx)  NO2(GT)  PT08.S4(NO2)  PT08.S5(O3)  \\\n",
       "0        1045.50    166.0       1056.25    113.0       1692.00      1267.50   \n",
       "1         954.75    103.0       1173.75     92.0       1558.75       972.25   \n",
       "2         939.25    131.0       1140.00    114.0       1554.50      1074.00   \n",
       "3         948.25    172.0       1092.00    122.0       1583.75      1203.25   \n",
       "4         835.50    131.0       1205.00    116.0       1490.00      1110.00   \n",
       "\n",
       "       T         RH        AH  \n",
       "0  13.60  48.875001  0.757754  \n",
       "1  13.30  47.700000  0.725487  \n",
       "2  11.90  53.975000  0.750239  \n",
       "3  11.00  60.000000  0.786713  \n",
       "4  11.15  59.575001  0.788794  "
      ]
     },
     "execution_count": 37,
     "metadata": {},
     "output_type": "execute_result"
    }
   ],
   "source": [
    "airquality.head()"
   ]
  },
  {
   "cell_type": "markdown",
   "metadata": {},
   "source": [
    "## Preprocessing the Dataset\n",
    "\n",
    "In this section, we check for missing values represented as `-200`. We replace these values with `NaN` and then impute missing values using the mean of each numeric column. We also check again for any remaining `-200` values after preprocessing."
   ]
  },
  {
   "cell_type": "code",
   "execution_count": 38,
   "metadata": {},
   "outputs": [
    {
     "name": "stdout",
     "output_type": "stream",
     "text": [
      "\n",
      "Checking for -200 values (missing data):\n",
      "CO(GT) has -200 values: 1683 (17.99%)\n",
      "PT08.S1(CO) has -200 values: 366 (3.91%)\n",
      "C6H6(GT) has -200 values: 366 (3.91%)\n",
      "PT08.S2(NMHC) has -200 values: 366 (3.91%)\n",
      "NOx(GT) has -200 values: 1639 (17.52%)\n",
      "PT08.S3(NOx) has -200 values: 366 (3.91%)\n",
      "NO2(GT) has -200 values: 1642 (17.55%)\n",
      "PT08.S4(NO2) has -200 values: 366 (3.91%)\n",
      "PT08.S5(O3) has -200 values: 366 (3.91%)\n",
      "T has -200 values: 366 (3.91%)\n",
      "RH has -200 values: 366 (3.91%)\n",
      "AH has -200 values: 366 (3.91%)\n"
     ]
    }
   ],
   "source": [
    "# Check for missing values (represented as -200)\n",
    "print(\"\\nChecking for -200 values (missing data):\")\n",
    "for col in airquality.columns:\n",
    "    if isinstance(airquality[col].min(), (int, float)) and airquality[col].min() == -200:\n",
    "        print(f\"{col} has -200 values: {(airquality[col] == -200).sum()} ({(airquality[col] == -200).sum()/len(airquality)*100:.2f}%)\")"
   ]
  },
  {
   "cell_type": "code",
   "execution_count": 39,
   "metadata": {},
   "outputs": [],
   "source": [
    "# Replace -200 with NaN\n",
    "df_clean = airquality.copy()\n",
    "for col in df_clean.columns:\n",
    "    if df_clean[col].dtype != 'datetime64[ns]' and df_clean[col].dtype != 'object':\n",
    "        df_clean[col] = df_clean[col].replace(-200, np.nan)"
   ]
  },
  {
   "cell_type": "code",
   "execution_count": 40,
   "metadata": {},
   "outputs": [],
   "source": [
    "# Impute missing values (example: mean imputation for numeric columns)\n",
    "numeric_cols = df_clean.select_dtypes(include=[np.number]).columns\n",
    "df_clean[numeric_cols] = df_clean[numeric_cols].fillna(df_clean[numeric_cols].mean())"
   ]
  },
  {
   "cell_type": "code",
   "execution_count": 41,
   "metadata": {},
   "outputs": [
    {
     "name": "stdout",
     "output_type": "stream",
     "text": [
      "\n",
      "Checking for -200 values (missing data):\n"
     ]
    }
   ],
   "source": [
    "# Check for missing values (represented as -200)\n",
    "print(\"\\nChecking for -200 values (missing data):\")\n",
    "for col in df_clean.columns:\n",
    "    if isinstance(df_clean[col].min(), (int, float)) and df_clean[col].min() == -200:\n",
    "        print(f\"{col} has -200 values: {(df_clean[col] == -200).sum()} ({(df_clean[col] == -200).sum()/len(df_clean)*100:.2f}%)\")"
   ]
  },
  {
   "cell_type": "markdown",
   "metadata": {},
   "source": [
    "## Defining Features and Target Variable\n",
    "\n",
    "We define the target variable, `CO(GT)`, and prepare the feature set for regression analysis. The feature set consists of all numeric columns except the target variable."
   ]
  },
  {
   "cell_type": "code",
   "execution_count": 42,
   "metadata": {},
   "outputs": [],
   "source": [
    "# Let's assume 'CO(GT)' is the target variable for regression analysis\n",
    "target_variable = 'CO(GT)'\n",
    "features = df_clean.drop(columns=[target_variable]).select_dtypes(include=[np.number]).dropna(axis=1)"
   ]
  },
  {
   "cell_type": "markdown",
   "metadata": {},
   "source": [
    "## Splitting the Dataset\n",
    "\n",
    "In this cell, we split the dataset into training and testing sets using `train_test_split()`. This allows us to evaluate the model's performance on unseen data."
   ]
  },
  {
   "cell_type": "code",
   "execution_count": 43,
   "metadata": {},
   "outputs": [],
   "source": [
    "# Split the Dataset\n",
    "X = features\n",
    "y = df_clean[target_variable].dropna()\n",
    "X = X.loc[y.index]  # Align X with y\n",
    "X_train, X_test, y_train, y_test = train_test_split(X, y, test_size=0.2, random_state=42)"
   ]
  },
  {
   "cell_type": "markdown",
   "metadata": {},
   "source": [
    "## Training the Regression Model\n",
    "\n",
    "Here, we train a linear regression model using the training data. We then make predictions on the test set."
   ]
  },
  {
   "cell_type": "code",
   "execution_count": 44,
   "metadata": {},
   "outputs": [],
   "source": [
    "# Train a Regression Model\n",
    "model = LinearRegression()\n",
    "model.fit(X_train, y_train)\n",
    "y_pred = model.predict(X_test)"
   ]
  },
  {
   "cell_type": "markdown",
   "metadata": {},
   "source": [
    "## Generating the KDE Plot\n",
    "\n",
    "In this section, we create a Kernel Density Estimate (KDE) plot to visualize the distribution of actual versus predicted values for the target variable. This plot helps us assess the model's performance visually."
   ]
  },
  {
   "cell_type": "code",
   "execution_count": 45,
   "metadata": {},
   "outputs": [
    {
     "data": {
      "image/png": "[encoded data removed]",
      "text/plain": [
       "<Figure size 1200x600 with 1 Axes>"
      ]
     },
     "metadata": {},
     "output_type": "display_data"
    }
   ],
   "source": [
    "# Generate KDE Plot\n",
    "plt.figure(figsize=(12, 6))\n",
    "sns.kdeplot(y_test, fill=True, label='Actual Values', color='blue', alpha=0.5)\n",
    "sns.kdeplot(y_pred, fill=True, label='Predicted Values', color='orange', alpha=0.5)\n",
    "plt.title('KDE Plot of Actual vs Predicted Values')\n",
    "plt.xlabel('CO(GT) Concentration')\n",
    "plt.ylabel('Density')\n",
    "plt.legend()\n",
    "plt.savefig('kde_plot.png')\n",
    "plt.show()"
   ]
  },
  {
   "cell_type": "markdown",
   "metadata": {},
   "source": [
    "## Step 5: Evaluate Model Performance\n",
    "\n",
    "In this section, we evaluate the performance of the trained linear regression model using two key metrics: Mean Squared Error (MSE) and R-squared (R²). \n",
    "\n",
    "- **Mean Squared Error (MSE)** measures the average squared difference between the actual and predicted values. A lower MSE indicates better model performance.\n",
    "- **R-squared (R²)** indicates the proportion of variance in the dependent variable that can be explained by the independent variables. R² values range from 0 to 1, with higher values indicating a better fit.\n",
    "\n",
    "We will print these metrics to assess how well our model predicts the target variable, `CO(GT)`."
   ]
  },
  {
   "cell_type": "code",
   "execution_count": 46,
   "metadata": {},
   "outputs": [
    {
     "name": "stdout",
     "output_type": "stream",
     "text": [
      "Mean Squared Error (MSE): 0.33\n",
      "R-squared: 0.82\n"
     ]
    }
   ],
   "source": [
    "mse = mean_squared_error(y_test, y_pred)\n",
    "print(f\"Mean Squared Error (MSE): {mse:.2f}\")\n",
    "\n",
    "r_squared = model.score(X_test, y_test)\n",
    "print(f\"R-squared: {r_squared:.2f}\")"
   ]
  }
 ],
 "metadata": {
  "kernelspec": {
   "display_name": "Python 3",
   "language": "python",
   "name": "python3"
  },
  "language_info": {
   "codemirror_mode": {
    "name": "ipython",
    "version": 3
   },
   "file_extension": ".py",
   "mimetype": "text/x-python",
   "name": "python",
   "nbconvert_exporter": "python",
   "pygments_lexer": "ipython3",
   "version": "3.12.9"
  }
 },
 "nbformat": 4,
 "nbformat_minor": 2
}
